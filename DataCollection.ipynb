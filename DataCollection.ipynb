{
 "cells": [
  {
   "cell_type": "code",
   "execution_count": 17,
   "metadata": {},
   "outputs": [],
   "source": [
    "import numpy as np\n",
    "import LatticeDefinitions as ld\n",
    "import GeometryFunctions as gf\n",
    "import GeneralLattice as gl\n",
    "import LAMMPSDump as LD\n",
    "import matplotlib.pyplot as plt\n",
    "import pandas as pd\n",
    "from io import StringIO"
   ]
  },
  {
   "cell_type": "code",
   "execution_count": 18,
   "metadata": {
    "scrolled": false
   },
   "outputs": [
    {
     "data": {
      "text/html": [
       "<div>\n",
       "<style scoped>\n",
       "    .dataframe tbody tr th:only-of-type {\n",
       "        vertical-align: middle;\n",
       "    }\n",
       "\n",
       "    .dataframe tbody tr th {\n",
       "        vertical-align: top;\n",
       "    }\n",
       "\n",
       "    .dataframe thead th {\n",
       "        text-align: right;\n",
       "    }\n",
       "</style>\n",
       "<table border=\"1\" class=\"dataframe\">\n",
       "  <thead>\n",
       "    <tr style=\"text-align: right;\">\n",
       "      <th></th>\n",
       "      <th>0</th>\n",
       "      <th>1</th>\n",
       "      <th>2</th>\n",
       "      <th>3</th>\n",
       "      <th>4</th>\n",
       "      <th>5</th>\n",
       "      <th>6</th>\n",
       "      <th>7</th>\n",
       "      <th>8</th>\n",
       "    </tr>\n",
       "  </thead>\n",
       "  <tbody>\n",
       "    <tr>\n",
       "      <th>0</th>\n",
       "      <td>1</td>\n",
       "      <td>UTJ0</td>\n",
       "      <td>[118.736       70.7133      42.08883462]</td>\n",
       "      <td>-3.2759249358974363</td>\n",
       "      <td>3.0374999999999996</td>\n",
       "      <td>156</td>\n",
       "      <td>-3.297269077376566</td>\n",
       "      <td>6791</td>\n",
       "      <td>241.81519649252454</td>\n",
       "    </tr>\n",
       "    <tr>\n",
       "      <th>1</th>\n",
       "      <td>1</td>\n",
       "      <td>UTJ1</td>\n",
       "      <td>[121.614      208.217       42.08883462]</td>\n",
       "      <td>-3.3069848611111112</td>\n",
       "      <td>2.025</td>\n",
       "      <td>72</td>\n",
       "      <td>-3.297175903116786</td>\n",
       "      <td>2663</td>\n",
       "      <td>159.2131736842265</td>\n",
       "    </tr>\n",
       "    <tr>\n",
       "      <th>2</th>\n",
       "      <td>1</td>\n",
       "      <td>UTJ2</td>\n",
       "      <td>[202.697       70.5002      42.08883462]</td>\n",
       "      <td>-3.2866889285714285</td>\n",
       "      <td>2.53125</td>\n",
       "      <td>84</td>\n",
       "      <td>-3.2900914453124996</td>\n",
       "      <td>5126</td>\n",
       "      <td>235.39746402708437</td>\n",
       "    </tr>\n",
       "    <tr>\n",
       "      <th>3</th>\n",
       "      <td>1</td>\n",
       "      <td>UTJ3</td>\n",
       "      <td>[201.41       207.104       42.08883462]</td>\n",
       "      <td>-3.2903185567010307</td>\n",
       "      <td>3.5437499999999997</td>\n",
       "      <td>194</td>\n",
       "      <td>-3.3102461425251746</td>\n",
       "      <td>5165</td>\n",
       "      <td>153.50978677606992</td>\n",
       "    </tr>\n",
       "    <tr>\n",
       "      <th>4</th>\n",
       "      <td>1</td>\n",
       "      <td>UTJ4</td>\n",
       "      <td>[322.757      142.394       42.08883462]</td>\n",
       "      <td>-3.2947620000000004</td>\n",
       "      <td>3.5437499999999997</td>\n",
       "      <td>195</td>\n",
       "      <td>-3.30082647863021</td>\n",
       "      <td>7540</td>\n",
       "      <td>226.68111597868338</td>\n",
       "    </tr>\n",
       "    <tr>\n",
       "      <th>5</th>\n",
       "      <td>1</td>\n",
       "      <td>UTJ5</td>\n",
       "      <td>[241.568      138.617       42.08883462]</td>\n",
       "      <td>-3.288028427672956</td>\n",
       "      <td>3.0374999999999996</td>\n",
       "      <td>159</td>\n",
       "      <td>-3.2974697664543524</td>\n",
       "      <td>6127</td>\n",
       "      <td>221.14124660508668</td>\n",
       "    </tr>\n",
       "    <tr>\n",
       "      <th>6</th>\n",
       "      <td>2</td>\n",
       "      <td>UTJ0</td>\n",
       "      <td>[198.72        71.5394      42.08883462]</td>\n",
       "      <td>-3.2734931081081085</td>\n",
       "      <td>3.0374999999999996</td>\n",
       "      <td>148</td>\n",
       "      <td>-3.2846493159222434</td>\n",
       "      <td>6748</td>\n",
       "      <td>238.92458652417713</td>\n",
       "    </tr>\n",
       "    <tr>\n",
       "      <th>7</th>\n",
       "      <td>2</td>\n",
       "      <td>UTJ1</td>\n",
       "      <td>[122.377      206.359       42.08883462]</td>\n",
       "      <td>-3.2465165822784807</td>\n",
       "      <td>2.53125</td>\n",
       "      <td>79</td>\n",
       "      <td>-3.2750098203707236</td>\n",
       "      <td>5241</td>\n",
       "      <td>238.36165779811824</td>\n",
       "    </tr>\n",
       "    <tr>\n",
       "      <th>8</th>\n",
       "      <td>2</td>\n",
       "      <td>UTJ2</td>\n",
       "      <td>[ 83.2741     138.622       42.08883462]</td>\n",
       "      <td>-3.267629142857143</td>\n",
       "      <td>3.0374999999999996</td>\n",
       "      <td>140</td>\n",
       "      <td>-3.2809928287157506</td>\n",
       "      <td>6533</td>\n",
       "      <td>232.97066521820796</td>\n",
       "    </tr>\n",
       "    <tr>\n",
       "      <th>9</th>\n",
       "      <td>2</td>\n",
       "      <td>UTJ3</td>\n",
       "      <td>[203.678      209.309       42.08883462]</td>\n",
       "      <td>-3.2637720000000003</td>\n",
       "      <td>1.5187499999999998</td>\n",
       "      <td>35</td>\n",
       "      <td>-3.266022625308135</td>\n",
       "      <td>2436</td>\n",
       "      <td>232.03458484770465</td>\n",
       "    </tr>\n",
       "    <tr>\n",
       "      <th>10</th>\n",
       "      <td>2</td>\n",
       "      <td>UTJ4</td>\n",
       "      <td>[122.074       69.1198      42.08883462]</td>\n",
       "      <td>-3.2384421153846157</td>\n",
       "      <td>2.025</td>\n",
       "      <td>52</td>\n",
       "      <td>-3.2699945845110228</td>\n",
       "      <td>3550</td>\n",
       "      <td>223.87884678515616</td>\n",
       "    </tr>\n",
       "    <tr>\n",
       "      <th>11</th>\n",
       "      <td>2</td>\n",
       "      <td>UTJ5</td>\n",
       "      <td>[240.191      142.558       42.08883462]</td>\n",
       "      <td>-3.254707179487179</td>\n",
       "      <td>2.53125</td>\n",
       "      <td>78</td>\n",
       "      <td>-3.276365978391357</td>\n",
       "      <td>5002</td>\n",
       "      <td>230.04558200681532</td>\n",
       "    </tr>\n",
       "    <tr>\n",
       "      <th>12</th>\n",
       "      <td>3</td>\n",
       "      <td>UTJ0</td>\n",
       "      <td>[200.201       70.245       42.08883462]</td>\n",
       "      <td>-3.2860177777777775</td>\n",
       "      <td>2.025</td>\n",
       "      <td>72</td>\n",
       "      <td>-3.2841376253298153</td>\n",
       "      <td>3790</td>\n",
       "      <td>231.35738208622752</td>\n",
       "    </tr>\n",
       "    <tr>\n",
       "      <th>13</th>\n",
       "      <td>3</td>\n",
       "      <td>UTJ1</td>\n",
       "      <td>[117.783       63.5985      42.08883462]</td>\n",
       "      <td>-3.281414</td>\n",
       "      <td>1.5187499999999998</td>\n",
       "      <td>25</td>\n",
       "      <td>-3.2850540167197457</td>\n",
       "      <td>2512</td>\n",
       "      <td>230.96004147049484</td>\n",
       "    </tr>\n",
       "    <tr>\n",
       "      <th>14</th>\n",
       "      <td>3</td>\n",
       "      <td>UTJ2</td>\n",
       "      <td>[ 80.9291     138.089       42.08883462]</td>\n",
       "      <td>-3.264606904761904</td>\n",
       "      <td>2.025</td>\n",
       "      <td>84</td>\n",
       "      <td>-3.2902251714975845</td>\n",
       "      <td>4140</td>\n",
       "      <td>247.48079356774355</td>\n",
       "    </tr>\n",
       "    <tr>\n",
       "      <th>15</th>\n",
       "      <td>3</td>\n",
       "      <td>UTJ3</td>\n",
       "      <td>[83.2328      1.398      42.08883462]</td>\n",
       "      <td>-3.242508235294118</td>\n",
       "      <td>1.5187499999999998</td>\n",
       "      <td>34</td>\n",
       "      <td>-3.286166436335404</td>\n",
       "      <td>2576</td>\n",
       "      <td>236.72292401192357</td>\n",
       "    </tr>\n",
       "  </tbody>\n",
       "</table>\n",
       "</div>"
      ],
      "text/plain": [
       "    0     1                                         2                    3  \\\n",
       "0   1  UTJ0  [118.736       70.7133      42.08883462]  -3.2759249358974363   \n",
       "1   1  UTJ1  [121.614      208.217       42.08883462]  -3.3069848611111112   \n",
       "2   1  UTJ2  [202.697       70.5002      42.08883462]  -3.2866889285714285   \n",
       "3   1  UTJ3  [201.41       207.104       42.08883462]  -3.2903185567010307   \n",
       "4   1  UTJ4  [322.757      142.394       42.08883462]  -3.2947620000000004   \n",
       "5   1  UTJ5  [241.568      138.617       42.08883462]   -3.288028427672956   \n",
       "6   2  UTJ0  [198.72        71.5394      42.08883462]  -3.2734931081081085   \n",
       "7   2  UTJ1  [122.377      206.359       42.08883462]  -3.2465165822784807   \n",
       "8   2  UTJ2  [ 83.2741     138.622       42.08883462]   -3.267629142857143   \n",
       "9   2  UTJ3  [203.678      209.309       42.08883462]  -3.2637720000000003   \n",
       "10  2  UTJ4  [122.074       69.1198      42.08883462]  -3.2384421153846157   \n",
       "11  2  UTJ5  [240.191      142.558       42.08883462]   -3.254707179487179   \n",
       "12  3  UTJ0  [200.201       70.245       42.08883462]  -3.2860177777777775   \n",
       "13  3  UTJ1  [117.783       63.5985      42.08883462]            -3.281414   \n",
       "14  3  UTJ2  [ 80.9291     138.089       42.08883462]   -3.264606904761904   \n",
       "15  3  UTJ3     [83.2328      1.398      42.08883462]   -3.242508235294118   \n",
       "\n",
       "                     4    5                    6     7                   8  \n",
       "0   3.0374999999999996  156   -3.297269077376566  6791  241.81519649252454  \n",
       "1                2.025   72   -3.297175903116786  2663   159.2131736842265  \n",
       "2              2.53125   84  -3.2900914453124996  5126  235.39746402708437  \n",
       "3   3.5437499999999997  194  -3.3102461425251746  5165  153.50978677606992  \n",
       "4   3.5437499999999997  195    -3.30082647863021  7540  226.68111597868338  \n",
       "5   3.0374999999999996  159  -3.2974697664543524  6127  221.14124660508668  \n",
       "6   3.0374999999999996  148  -3.2846493159222434  6748  238.92458652417713  \n",
       "7              2.53125   79  -3.2750098203707236  5241  238.36165779811824  \n",
       "8   3.0374999999999996  140  -3.2809928287157506  6533  232.97066521820796  \n",
       "9   1.5187499999999998   35   -3.266022625308135  2436  232.03458484770465  \n",
       "10               2.025   52  -3.2699945845110228  3550  223.87884678515616  \n",
       "11             2.53125   78   -3.276365978391357  5002  230.04558200681532  \n",
       "12               2.025   72  -3.2841376253298153  3790  231.35738208622752  \n",
       "13  1.5187499999999998   25  -3.2850540167197457  2512  230.96004147049484  \n",
       "14               2.025   84  -3.2902251714975845  4140  247.48079356774355  \n",
       "15  1.5187499999999998   34   -3.286166436335404  2576  236.72292401192357  "
      ]
     },
     "execution_count": 18,
     "metadata": {},
     "output_type": "execute_result"
    }
   ],
   "source": [
    "##File format Tripleline ID, Tripleline Centre, TJ Energy, Radius, TJ Atoms\n",
    "##GBEnergy, GBAtoms\n",
    "strDirectory = '/home/paul/csf3_scratch/TripleLines/Axis111/data'\n",
    "lstAllFilenames = []\n",
    "strData = ''\n",
    "for j in range(1,7):\n",
    "    fin = open(strDirectory + str(j) + '/summary.data' + str(j), 'rt')\n",
    "    strData +=  fin.read()\n",
    "df = pd.DataFrame([x.split(',') for x in strData.split('\\n')])\n",
    "df[:16]"
   ]
  },
  {
   "cell_type": "code",
   "execution_count": 19,
   "metadata": {},
   "outputs": [
    {
     "name": "stderr",
     "output_type": "stream",
     "text": [
      "/home/paul/anaconda3/lib/python3.7/site-packages/numpy/lib/histograms.py:839: RuntimeWarning: invalid value encountered in greater_equal\n",
      "  keep = (tmp_a >= first_edge)\n",
      "/home/paul/anaconda3/lib/python3.7/site-packages/numpy/lib/histograms.py:840: RuntimeWarning: invalid value encountered in less_equal\n",
      "  keep &= (tmp_a <= last_edge)\n"
     ]
    },
    {
     "data": {
      "image/png": "[encoded data removed]",
      "text/plain": [
       "<Figure size 432x288 with 1 Axes>"
      ]
     },
     "metadata": {
      "needs_background": "light"
     },
     "output_type": "display_data"
    },
    {
     "name": "stdout",
     "output_type": "stream",
     "text": [
      "-0.13846050319957148 0.026856727291553206\n"
     ]
    },
    {
     "data": {
      "image/png": "[encoded data removed]",
      "text/plain": [
       "<Figure size 432x288 with 1 Axes>"
      ]
     },
     "metadata": {
      "needs_background": "light"
     },
     "output_type": "display_data"
    },
    {
     "name": "stdout",
     "output_type": "stream",
     "text": [
      "0.017341811325570396 0.016160225265600597\n"
     ]
    },
    {
     "data": {
      "text/plain": [
       "(array([0.21621622, 0.        , 0.24324324, 0.        , 0.10810811,\n",
       "        0.        , 0.27027027, 0.        , 0.10810811, 0.02702703]),\n",
       " array([1.51875 , 1.771875, 2.025   , 2.278125, 2.53125 , 2.784375,\n",
       "        3.0375  , 3.290625, 3.54375 , 3.796875, 4.05    ]),\n",
       " <a list of 10 Patch objects>)"
      ]
     },
     "execution_count": 19,
     "metadata": {},
     "output_type": "execute_result"
    },
    {
     "data": {
      "image/png": "[encoded data removed]",
      "text/plain": [
       "<Figure size 432x288 with 1 Axes>"
      ]
     },
     "metadata": {
      "needs_background": "light"
     },
     "output_type": "display_data"
    }
   ],
   "source": [
    "arrPEL = df[3].astype('float')-3*df[6].astype('float')-2*3.3594*np.ones(len(df));\n",
    "arrPEU = df[3].astype('float')-df[6].astype('float');\n",
    "plt.xlabel('Mean Potential Energy per Atom in eV')\n",
    "arrWeights = np.ones(len(arrPEL))/len(arrPEL)\n",
    "plt.xlim(-0.2,0.125)\n",
    "plt.hist(arrPEL,bins=20, weights = arrWeights)\n",
    "plt.show()\n",
    "print(np.mean(arrPEL), np.std(arrPEL))\n",
    "plt.hist(arrPEU,bins=20, weights = arrWeights)\n",
    "plt.xlim(-0.2,0.125)\n",
    "plt.show()\n",
    "print(np.mean(arrPEU), np.std(arrPEU))\n",
    "plt.hist(df[4].astype('float'),weights = arrWeights)\n"
   ]
  },
  {
   "cell_type": "code",
   "execution_count": 20,
   "metadata": {},
   "outputs": [
    {
     "data": {
      "text/plain": [
       "(array([1., 0., 0., 0., 2., 2., 1., 6., 7., 5., 2., 2., 2., 2., 2., 0., 1.,\n",
       "        0., 0., 1.]),\n",
       " array([-0.26575273, -0.25841549, -0.25107825, -0.243741  , -0.23640376,\n",
       "        -0.22906652, -0.22172928, -0.21439203, -0.20705479, -0.19971755,\n",
       "        -0.19238031, -0.18504306, -0.17770582, -0.17036858, -0.16303134,\n",
       "        -0.15569409, -0.14835685, -0.14101961, -0.13368237, -0.12634512,\n",
       "        -0.11900788]),\n",
       " <a list of 20 Patch objects>)"
      ]
     },
     "execution_count": 20,
     "metadata": {},
     "output_type": "execute_result"
    },
    {
     "data": {
      "image/png": "[encoded data removed]",
      "text/plain": [
       "<Figure size 432x288 with 1 Axes>"
      ]
     },
     "metadata": {
      "needs_background": "light"
     },
     "output_type": "display_data"
    }
   ],
   "source": [
    "lstPEVol = []\n",
    "for j in range(len(df)-1):\n",
    "    arrRow = df.iloc[[j]][[3,4,5]].astype('float').to_numpy()[0]\n",
    "    lstPEVol.append(arrRow[0]*arrRow[2]/(np.pi*arrRow[1]**2*80.1))\n",
    "arrRow\n",
    "plt.hist(lstPEVol, bins =20)"
   ]
  },
  {
   "cell_type": "code",
   "execution_count": 30,
   "metadata": {
    "scrolled": true
   },
   "outputs": [
    {
     "data": {
      "image/png": "[encoded data removed]",
      "text/plain": [
       "<Figure size 432x288 with 1 Axes>"
      ]
     },
     "metadata": {
      "needs_background": "light"
     },
     "output_type": "display_data"
    },
    {
     "data": {
      "text/plain": [
       "(array([3., 4., 1., 0., 0., 0., 3., 0., 4., 2., 0., 0., 4., 0., 0., 0., 7.,\n",
       "        4., 3., 1.]),\n",
       " array([0.0431495 , 0.04400881, 0.04486812, 0.04572742, 0.04658673,\n",
       "        0.04744604, 0.04830535, 0.04916466, 0.05002396, 0.05088327,\n",
       "        0.05174258, 0.05260189, 0.0534612 , 0.0543205 , 0.05517981,\n",
       "        0.05603912, 0.05689843, 0.05775774, 0.05861704, 0.05947635,\n",
       "        0.06033566]),\n",
       " <a list of 20 Patch objects>)"
      ]
     },
     "execution_count": 30,
     "metadata": {},
     "output_type": "execute_result"
    },
    {
     "data": {
      "image/png": "[encoded data removed]",
      "text/plain": [
       "<Figure size 432x288 with 1 Axes>"
      ]
     },
     "metadata": {
      "needs_background": "light"
     },
     "output_type": "display_data"
    }
   ],
   "source": [
    "lstDensity = []\n",
    "for j in range(len(df)-1):\n",
    "    arrRow = df.iloc[[j]][[4,5]].astype('float').to_numpy()[0]\n",
    "    lstDensity.append(arrRow[1]/(np.pi*arrRow[0]**2*80.1))\n",
    "plt.hist(lstDensity, bins =20)\n",
    "plt.xlim(0,0.09)\n",
    "plt.show()\n",
    "lstDensity = []\n",
    "for j in range(len(df)-1):\n",
    "    arrRow = df.iloc[[j]][[4,7,8]].astype('float').to_numpy()[0]\n",
    "    lstDensity.append(arrRow[1]/(2*arrRow[0]*arrRow[2]*80.1))\n",
    "plt.xlim(0,0.09)\n",
    "plt.hist(lstDensity, bins =20)\n",
    "\n"
   ]
  },
  {
   "cell_type": "code",
   "execution_count": null,
   "metadata": {},
   "outputs": [],
   "source": []
  },
  {
   "cell_type": "code",
   "execution_count": null,
   "metadata": {},
   "outputs": [],
   "source": []
  },
  {
   "cell_type": "code",
   "execution_count": null,
   "metadata": {},
   "outputs": [],
   "source": []
  },
  {
   "cell_type": "code",
   "execution_count": null,
   "metadata": {},
   "outputs": [],
   "source": []
  }
 ],
 "metadata": {
  "kernelspec": {
   "display_name": "Python 3",
   "language": "python",
   "name": "python3"
  },
  "language_info": {
   "codemirror_mode": {
    "name": "ipython",
    "version": 3
   },
   "file_extension": ".py",
   "mimetype": "text/x-python",
   "name": "python",
   "nbconvert_exporter": "python",
   "pygments_lexer": "ipython3",
   "version": "3.7.3"
  }
 },
 "nbformat": 4,
 "nbformat_minor": 2
}
