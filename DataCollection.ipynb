{
 "cells": [
  {
   "cell_type": "code",
   "execution_count": 4,
   "metadata": {},
   "outputs": [],
   "source": [
    "import numpy as np\n",
    "import LatticeDefinitions as ld\n",
    "import GeometryFunctions as gf\n",
    "import GeneralLattice as gl\n",
    "import LAMMPSDump as LD\n",
    "import matplotlib.pyplot as plt\n",
    "import pandas as pd"
   ]
  },
  {
   "cell_type": "code",
   "execution_count": 5,
   "metadata": {},
   "outputs": [],
   "source": [
    "##File format Tripleline ID, Tripleline Centre, TJ Energy, Radius, TJ Atoms\n",
    "##GBEnergy, GBAtoms\n",
    "strDirectory = '/home/paul/csf3_scratch/TripleLines/data'\n",
    "lstE = []"
   ]
  },
  {
   "cell_type": "code",
   "execution_count": 9,
   "metadata": {},
   "outputs": [
    {
     "name": "stdout",
     "output_type": "stream",
     "text": [
      "Data 5 has only 5 triple lines\n",
      "Data 10 has only 2 triple lines\n",
      "Data 12 has only 2 triple lines\n"
     ]
    },
    {
     "name": "stderr",
     "output_type": "stream",
     "text": [
      "/home/paul/anaconda3/lib/python3.7/site-packages/ipykernel_launcher.py:6: UserWarning: loadtxt: Empty input file: \"/home/paul/csf3_scratch/TripleLines/data16/summary.data16\"\n",
      "  \n",
      "/home/paul/anaconda3/lib/python3.7/site-packages/ipykernel_launcher.py:10: UserWarning: loadtxt: Empty input file: \"/home/paul/csf3_scratch/TripleLines/data16/summary.data16\"\n",
      "  # Remove the CWD from sys.path while we load stuff.\n",
      "/home/paul/anaconda3/lib/python3.7/site-packages/ipykernel_launcher.py:11: UserWarning: loadtxt: Empty input file: \"/home/paul/csf3_scratch/TripleLines/data16/summary.data16\"\n",
      "  # This is added back by InteractiveShellApp.init_path()\n"
     ]
    },
    {
     "name": "stdout",
     "output_type": "stream",
     "text": [
      "Data 16 has only 0 triple lines\n",
      "Data 20 has only 8 triple lines\n"
     ]
    }
   ],
   "source": [
    "lstE = []\n",
    "lstN = []\n",
    "lstR = []\n",
    "for j in range(1,21):\n",
    "    strFileName = strDirectory + str(j) + '/summary.data' + str(j)\n",
    "    lstTmpE = np.loadtxt(strFileName,usecols=2, delimiter= ',')\n",
    "    if len(lstTmpE) != 6:\n",
    "        print(\"Data \" + str(j) + ' has ' + str(len(lstTmpE)) + ' triple lines' )\n",
    "    lstE.extend(lstTmpE)\n",
    "    lstN.extend(np.loadtxt(strFileName,usecols=5, delimiter= ','))\n",
    "    lstR.extend(np.loadtxt(strFileName,usecols=3, delimiter= ','))\n"
   ]
  },
  {
   "cell_type": "code",
   "execution_count": null,
   "metadata": {},
   "outputs": [],
   "source": [
    "len(lstR)"
   ]
  },
  {
   "cell_type": "code",
   "execution_count": null,
   "metadata": {},
   "outputs": [],
   "source": [
    "lstMeanE = []\n",
    "for j in range(len(lstE)):\n",
    "    if lstN[j] !=0:\n",
    "        lstMeanE.append(lstE[j]-lstN[j]) \n",
    "np.argmax(lstR)\n"
   ]
  },
  {
   "cell_type": "code",
   "execution_count": null,
   "metadata": {
    "scrolled": true
   },
   "outputs": [],
   "source": [
    "plt.hist(lstMeanE,bins =50);"
   ]
  },
  {
   "cell_type": "code",
   "execution_count": null,
   "metadata": {},
   "outputs": [],
   "source": [
    "lstR =[]\n",
    "for j in range(1,7):\n",
    "    strFileName = strDirectory + str(j) + '/SummaryData' + str(j)\n",
    "    lstR.extend(np.loadtxt(strFileName, usecols=-2))\n",
    "    if np.min(lstR) < -500:\n",
    "        print(j)"
   ]
  },
  {
   "cell_type": "code",
   "execution_count": null,
   "metadata": {},
   "outputs": [],
   "source": [
    "np.argmax(lstR)"
   ]
  },
  {
   "cell_type": "code",
   "execution_count": null,
   "metadata": {},
   "outputs": [],
   "source": [
    "140/13"
   ]
  },
  {
   "cell_type": "code",
   "execution_count": null,
   "metadata": {},
   "outputs": [],
   "source": []
  }
 ],
 "metadata": {
  "kernelspec": {
   "display_name": "Python 3",
   "language": "python",
   "name": "python3"
  },
  "language_info": {
   "codemirror_mode": {
    "name": "ipython",
    "version": 3
   },
   "file_extension": ".py",
   "mimetype": "text/x-python",
   "name": "python",
   "nbconvert_exporter": "python",
   "pygments_lexer": "ipython3",
   "version": "3.7.3"
  }
 },
 "nbformat": 4,
 "nbformat_minor": 2
}
