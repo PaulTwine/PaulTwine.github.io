{
 "cells": [
  {
   "cell_type": "code",
   "execution_count": 16,
   "metadata": {},
   "outputs": [],
   "source": [
    "import numpy as np\n",
    "import LatticeDefinitions as ld\n",
    "import GeometryFunctions as gf\n",
    "import GeneralLattice as gl\n",
    "import LAMMPSDump as LD\n",
    "import matplotlib.pyplot as plt\n",
    "import pandas as pd"
   ]
  },
  {
   "cell_type": "code",
   "execution_count": 17,
   "metadata": {},
   "outputs": [],
   "source": [
    "##File format Tripleline ID, Tripleline Centre, TJ Energy, Radius, TJ Atoms\n",
    "##GBEnergy, GBAtoms\n",
    "strDirectory = '/home/paul/csf3_scratch/TripleLines/data'\n",
    "lstE = []"
   ]
  },
  {
   "cell_type": "code",
   "execution_count": 18,
   "metadata": {},
   "outputs": [],
   "source": [
    "lstE = []\n",
    "lstN = []\n",
    "lstR = []\n",
    "for j in range(1,21):\n",
    "    strFileName = strDirectory + str(j) + '/summary.data' + str(j)\n",
    "    lstE.extend(np.loadtxt(strFileName,usecols=2, delimiter= ','))\n",
    "    lstN.extend(np.loadtxt(strFileName,usecols=5, delimiter= ','))\n",
    "    lstR.extend(np.loadtxt(strFileName,usecols=3, delimiter= ','))\n"
   ]
  },
  {
   "cell_type": "code",
   "execution_count": 7,
   "metadata": {},
   "outputs": [
    {
     "data": {
      "text/plain": [
       "[-3.2963648733821045,\n",
       " -3.3050092631578947,\n",
       " -3.3137012426900583,\n",
       " -3.293902385428907,\n",
       " -3.299694682395644,\n",
       " -3.3005375714285714,\n",
       " -3.3020453602430555,\n",
       " -3.291479607954545,\n",
       " -3.289749183210437,\n",
       " -3.314666158940397,\n",
       " -3.295241019300362,\n",
       " -3.2968333577533575,\n",
       " -3.298128153918791,\n",
       " -3.2913560838389415,\n",
       " -3.2931999827387806,\n",
       " -3.300017191342843,\n",
       " -3.301756659205372,\n",
       " -3.292635875227135,\n",
       " -3.3173549406861174,\n",
       " -3.3037950292397658,\n",
       " -3.297986314363144,\n",
       " -3.3131229519145142,\n",
       " -3.2991503178484107,\n",
       " -3.29918050778996,\n",
       " -3.3180023568120887,\n",
       " -3.290537211764706,\n",
       " -3.292605498591549,\n",
       " -3.290150229753016,\n",
       " -3.293909298245614,\n",
       " -3.2973385618932034,\n",
       " -3.2838031198686375,\n",
       " -3.286787930148947,\n",
       " -3.3171790263348635,\n",
       " -3.2861978210590386,\n",
       " -3.3002849521892297,\n",
       " -3.2983943140407286,\n",
       " -3.289407394444444,\n",
       " -3.348868994765413,\n",
       " -3.2940417966280298,\n",
       " -3.292105359019265,\n",
       " -3.2966766666666665,\n",
       " -3.293335675833821,\n",
       " -3.297230658849805,\n",
       " -3.302217445783132,\n",
       " -3.301511766715471,\n",
       " -3.34932129363848,\n",
       " -3.2954081275720166,\n",
       " -3.2972649072929543,\n",
       " -3.289009810606061,\n",
       " -3.2928386112660344,\n",
       " -3.290590397390273,\n",
       " -3.294875401629802,\n",
       " -3.3002888815789473,\n",
       " -3.2933879262394194,\n",
       " -3.3022971805441057,\n",
       " -3.2927780459770117,\n",
       " -3.306285227168426,\n",
       " -3.3011026332288402,\n",
       " -3.2930999748901444,\n",
       " -3.3089111456310674,\n",
       " -3.2875660618436404,\n",
       " -3.287356987447699,\n",
       " -3.292791214003388,\n",
       " -3.304053180529301,\n",
       " -3.2934400879765393,\n",
       " -3.3006988310362426,\n",
       " -3.303906479344995,\n",
       " -3.293427889310906,\n",
       " -3.291497787114846,\n",
       " -3.2935233510638295,\n",
       " -3.2932135348837206,\n",
       " -3.29654913262451,\n",
       " -3.299405596481584,\n",
       " -3.306153370932755,\n",
       " -3.3061974159462055,\n",
       " -3.3059438210526317,\n",
       " -3.3062104025091483,\n",
       " -3.2997816599423633,\n",
       " -3.298086319138522,\n",
       " -3.293260221143474,\n",
       " -3.2906126496191512,\n",
       " -3.3010794108761328,\n",
       " -3.2943182495101246,\n",
       " -3.2990931611570247,\n",
       " -3.291606461023434,\n",
       " -3.2912358219500706,\n",
       " -3.2971189601018676,\n",
       " -3.29676309650053,\n",
       " -3.2893880667433835,\n",
       " -3.296135719461698,\n",
       " -3.293932140891579,\n",
       " -3.3379510026065904,\n",
       " -3.315359661726804,\n",
       " -3.2930383863080683,\n",
       " -3.3062581294964026,\n",
       " -3.3067460313797876,\n",
       " -3.2980959797866367,\n",
       " -3.298374420529801,\n",
       " -3.3043615361445786,\n",
       " -3.298439644638404,\n",
       " -3.308173041497976,\n",
       " -3.3022112958715595,\n",
       " -3.2958944489179665,\n",
       " -3.3437185200535606,\n",
       " -3.3080496676300575,\n",
       " -3.339001699239321,\n",
       " -3.3035663205741628,\n",
       " -3.298878846971307,\n",
       " -3.289602637423653,\n",
       " -3.294276439847578,\n",
       " -3.299773999028183,\n",
       " -3.298087242864836,\n",
       " -3.300973442009621,\n",
       " -3.3012125184016825,\n",
       " -3.2982054515235455,\n",
       " -3.2984346187128173,\n",
       " -3.3022541428571426,\n",
       " -3.3029107203907206,\n",
       " -3.2981226955950036,\n",
       " -3.3004837094017097]"
      ]
     },
     "execution_count": 7,
     "metadata": {},
     "output_type": "execute_result"
    }
   ],
   "source": [
    "lstN"
   ]
  },
  {
   "cell_type": "code",
   "execution_count": 23,
   "metadata": {},
   "outputs": [
    {
     "data": {
      "text/plain": [
       "2"
      ]
     },
     "execution_count": 23,
     "metadata": {},
     "output_type": "execute_result"
    }
   ],
   "source": [
    "lstMeanE = []\n",
    "for j in range(len(lstE)):\n",
    "    if lstN[j] !=0:\n",
    "        lstMeanE.append(lstE[j]-lstN[j]) \n",
    "np.mod(np.argmin(lstMeanE),6)\n"
   ]
  },
  {
   "cell_type": "code",
   "execution_count": 26,
   "metadata": {
    "scrolled": true
   },
   "outputs": [
    {
     "data": {
      "image/png": "[encoded data removed]",
      "text/plain": [
       "<Figure size 432x288 with 1 Axes>"
      ]
     },
     "metadata": {
      "needs_background": "light"
     },
     "output_type": "display_data"
    }
   ],
   "source": [
    "plt.hist(lstR,bins =50);"
   ]
  },
  {
   "cell_type": "code",
   "execution_count": 14,
   "metadata": {},
   "outputs": [],
   "source": [
    "lstR =[]\n",
    "for j in range(1,7):\n",
    "    strFileName = strDirectory + str(j) + '/SummaryData' + str(j)\n",
    "    lstR.extend(np.loadtxt(strFileName, usecols=-2))\n",
    "    if np.min(lstR) < -500:\n",
    "        print(j)"
   ]
  },
  {
   "cell_type": "code",
   "execution_count": 45,
   "metadata": {},
   "outputs": [
    {
     "data": {
      "text/plain": [
       "39"
      ]
     },
     "execution_count": 45,
     "metadata": {},
     "output_type": "execute_result"
    }
   ],
   "source": [
    "np.argmax(lstR)"
   ]
  },
  {
   "cell_type": "code",
   "execution_count": 12,
   "metadata": {},
   "outputs": [
    {
     "data": {
      "text/plain": [
       "11.666666666666666"
      ]
     },
     "execution_count": 12,
     "metadata": {},
     "output_type": "execute_result"
    }
   ],
   "source": [
    "140/13"
   ]
  },
  {
   "cell_type": "code",
   "execution_count": null,
   "metadata": {},
   "outputs": [],
   "source": []
  }
 ],
 "metadata": {
  "kernelspec": {
   "display_name": "Python 3",
   "language": "python",
   "name": "python3"
  },
  "language_info": {
   "codemirror_mode": {
    "name": "ipython",
    "version": 3
   },
   "file_extension": ".py",
   "mimetype": "text/x-python",
   "name": "python",
   "nbconvert_exporter": "python",
   "pygments_lexer": "ipython3",
   "version": "3.7.3"
  }
 },
 "nbformat": 4,
 "nbformat_minor": 2
}
