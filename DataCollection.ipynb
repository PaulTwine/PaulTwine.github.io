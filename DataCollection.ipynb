{
 "cells": [
  {
   "cell_type": "code",
   "execution_count": 22,
   "metadata": {},
   "outputs": [],
   "source": [
    "import numpy as np\n",
    "import LatticeDefinitions as ld\n",
    "import GeometryFunctions as gf\n",
    "import GeneralLattice as gl\n",
    "import LAMMPSDump as LD\n",
    "import matplotlib.pyplot as plt\n",
    "import pandas as pd\n",
    "from io import StringIO"
   ]
  },
  {
   "cell_type": "code",
   "execution_count": null,
   "metadata": {},
   "outputs": [],
   "source": [
    "##File format Tripleline ID, Tripleline Centre, TJ Energy, Radius, TJ Atoms\n",
    "##GBEnergy, GBAtoms\n",
    "strDirectory = '/home/paul/csf3_scratch/TripleLines/data'\n",
    "lstAllFilenames = []\n",
    "strData = ''\n",
    "for j in range(1,21):\n",
    "    fin = open(strDirectory + str(j) + '/summary.data' + str(j), 'rt')\n",
    "    strData +=  fin.read()\n",
    "df = pd.DataFrame([x.split(',') for x in strData.split('\\n')])\n",
    "print(np.where(df[3].astype('float')==0))\n",
    "df[:,20]"
   ]
  },
  {
   "cell_type": "code",
   "execution_count": 36,
   "metadata": {},
   "outputs": [
    {
     "data": {
      "text/plain": [
       "(array([ 1.,  1.,  0.,  1.,  4.,  4.,  5., 19., 20., 23., 20.,  7.,  5.,\n",
       "         3.,  4.,  2.,  0.,  0.,  0.,  1.]),\n",
       " array([-0.06178844, -0.05302541, -0.04426237, -0.03549933, -0.0267363 ,\n",
       "        -0.01797326, -0.00921022, -0.00044719,  0.00831585,  0.01707889,\n",
       "         0.02584192,  0.03460496,  0.043368  ,  0.05213103,  0.06089407,\n",
       "         0.06965711,  0.07842014,  0.08718318,  0.09594622,  0.10470925,\n",
       "         0.11347229]),\n",
       " <a list of 20 Patch objects>)"
      ]
     },
     "execution_count": 36,
     "metadata": {},
     "output_type": "execute_result"
    },
    {
     "data": {
      "image/png": "[encoded data removed]",
      "text/plain": [
       "<Figure size 432x288 with 1 Axes>"
      ]
     },
     "metadata": {
      "needs_background": "light"
     },
     "output_type": "display_data"
    }
   ],
   "source": [
    "arrValues = df[2].astype('float')-df[5].astype('float');\n",
    "arrValues = arrValues[arrValues < 2];\n",
    "plt.hist(arrValues, bins=20)"
   ]
  },
  {
   "cell_type": "code",
   "execution_count": 40,
   "metadata": {},
   "outputs": [
    {
     "data": {
      "text/plain": [
       "0.07384011296978284"
      ]
     },
     "execution_count": 40,
     "metadata": {},
     "output_type": "execute_result"
    }
   ],
   "source": [
    "3*np.sqrt(np.var(arrValues))"
   ]
  },
  {
   "cell_type": "code",
   "execution_count": 52,
   "metadata": {},
   "outputs": [
    {
     "ename": "AttributeError",
     "evalue": "'str' object has no attribute 'astype'",
     "output_type": "error",
     "traceback": [
      "\u001b[0;31m---------------------------------------------------------------------------\u001b[0m",
      "\u001b[0;31mAttributeError\u001b[0m                            Traceback (most recent call last)",
      "\u001b[0;32m<ipython-input-52-65d364f66d88>\u001b[0m in \u001b[0;36m<module>\u001b[0;34m\u001b[0m\n\u001b[1;32m      2\u001b[0m \u001b[0;32mfor\u001b[0m \u001b[0mk\u001b[0m \u001b[0;32min\u001b[0m \u001b[0mrange\u001b[0m\u001b[0;34m(\u001b[0m\u001b[0mlen\u001b[0m\u001b[0;34m(\u001b[0m\u001b[0mdf\u001b[0m\u001b[0;34m)\u001b[0m\u001b[0;34m)\u001b[0m\u001b[0;34m:\u001b[0m\u001b[0;34m\u001b[0m\u001b[0;34m\u001b[0m\u001b[0m\n\u001b[1;32m      3\u001b[0m     \u001b[0marrRow\u001b[0m \u001b[0;34m=\u001b[0m \u001b[0mnp\u001b[0m\u001b[0;34m.\u001b[0m\u001b[0marray\u001b[0m\u001b[0;34m(\u001b[0m\u001b[0mdf\u001b[0m\u001b[0;34m[\u001b[0m\u001b[0mk\u001b[0m\u001b[0;34m]\u001b[0m\u001b[0;34m)\u001b[0m\u001b[0;34m\u001b[0m\u001b[0;34m\u001b[0m\u001b[0m\n\u001b[0;32m----> 4\u001b[0;31m     \u001b[0mlstTJEV\u001b[0m\u001b[0;34m.\u001b[0m\u001b[0mappend\u001b[0m\u001b[0;34m(\u001b[0m\u001b[0marrRow\u001b[0m\u001b[0;34m[\u001b[0m\u001b[0;36m2\u001b[0m\u001b[0;34m]\u001b[0m\u001b[0;34m.\u001b[0m\u001b[0mastype\u001b[0m\u001b[0;34m(\u001b[0m\u001b[0;34m'float'\u001b[0m\u001b[0;34m)\u001b[0m\u001b[0;34m*\u001b[0m\u001b[0marrRow\u001b[0m\u001b[0;34m[\u001b[0m\u001b[0;36m4\u001b[0m\u001b[0;34m]\u001b[0m\u001b[0;34m.\u001b[0m\u001b[0mastype\u001b[0m\u001b[0;34m(\u001b[0m\u001b[0;34m'float'\u001b[0m\u001b[0;34m)\u001b[0m\u001b[0;34m/\u001b[0m\u001b[0;34m(\u001b[0m\u001b[0mnp\u001b[0m\u001b[0;34m.\u001b[0m\u001b[0mpi\u001b[0m\u001b[0;34m*\u001b[0m\u001b[0marrRow\u001b[0m\u001b[0;34m[\u001b[0m\u001b[0;36m3\u001b[0m\u001b[0;34m]\u001b[0m\u001b[0;34m.\u001b[0m\u001b[0mastype\u001b[0m\u001b[0;34m(\u001b[0m\u001b[0;34m'float'\u001b[0m\u001b[0;34m)\u001b[0m\u001b[0;34m**\u001b[0m\u001b[0;36m2\u001b[0m\u001b[0;34m*\u001b[0m\u001b[0;36m80.1\u001b[0m\u001b[0;34m)\u001b[0m\u001b[0;34m)\u001b[0m\u001b[0;34m\u001b[0m\u001b[0;34m\u001b[0m\u001b[0m\n\u001b[0m",
      "\u001b[0;31mAttributeError\u001b[0m: 'str' object has no attribute 'astype'"
     ]
    }
   ],
   "source": [
    "lstTJEV = []\n",
    "for k in range(len(df)):\n",
    "    arrRow = np.array(df[k])\n",
    "    lstTJEV.append(arrRow[2].astype('float')*arrRow[4].astype('float')/(np.pi*arrRow[3].astype('float')**2*80.1))"
   ]
  },
  {
   "cell_type": "code",
   "execution_count": 54,
   "metadata": {
    "scrolled": true
   },
   "outputs": [
    {
     "data": {
      "text/plain": [
       "array([-3.28757135, -3.2696219 , -3.22917926, -3.20094552, -3.19314895,\n",
       "       -3.21978979, -3.256658  , -3.25284264, -3.2396385 , -3.27313091,\n",
       "       -3.189654  , -3.19186424, -3.27455638, -3.23486629, -3.25155647,\n",
       "       -3.23680486, -3.26443226, -3.27341084, -3.25808823, -3.25101133,\n",
       "       -3.29075153, -3.2956558 , -3.24029258, -3.26165204, -3.27786511,\n",
       "       -3.27129617, -3.23470769, -3.2244325 , -3.3373095 , -3.28278836,\n",
       "       -3.27911935, -3.25703422, -3.24601487, -3.23996403, -3.2662471 ,\n",
       "       -3.23806237, -3.247125  , -3.24329724, -3.26004571, -3.26955623,\n",
       "       -3.24197711, -3.26293592, -3.2653772 , -3.26697144, -3.26493382,\n",
       "       -3.25514214, -3.25571417, -3.27467219, -3.25423302, -3.27727743,\n",
       "       -3.26594461, -3.24263704, -3.23926941, -3.2449504 , -3.20296275,\n",
       "       -3.23690181, -3.22807889, -3.28641532, -3.21831708, -3.25442   ,\n",
       "       -3.28142225, -3.19328967, -3.23681831, -3.2501956 , -3.2323508 ,\n",
       "       -3.3188307 , -3.24722051, -3.26062865, -3.25237227, -3.22243477,\n",
       "       -3.25094353, -3.27115523, -3.216515  , -3.28044866, -3.20687515,\n",
       "       -3.23333943, -3.24945118, -3.22824   , -3.2500442 , -3.23531871,\n",
       "       -3.2753095 , -3.25545063, -3.267573  , -3.27161682, -3.24045575,\n",
       "       -3.23583571, -3.25228556, -3.28624214, -3.25210815, -3.19381563,\n",
       "       -3.28317839, -3.24057205, -3.2730955 , -3.25086825, -3.25546788,\n",
       "       -3.27235909, -3.28222315, -3.28916653, -3.24316176, -3.2584795 ,\n",
       "       -3.24843675, -3.32706958, -3.22399982, -3.241433  , -3.26515479,\n",
       "       -3.26870765, -3.25663642, -3.25370214, -3.25384788, -3.26332866,\n",
       "       -3.25849994, -3.25211885, -3.2568675 , -3.1512495 , -3.26099304,\n",
       "       -3.27078237, -3.29586595, -3.27631852, -3.2181097 , -3.2458975 ,\n",
       "               nan])"
      ]
     },
     "execution_count": 54,
     "metadata": {},
     "output_type": "execute_result"
    }
   ],
   "source": [
    "np.array(df[2].astype('float'))"
   ]
  },
  {
   "cell_type": "code",
   "execution_count": null,
   "metadata": {},
   "outputs": [],
   "source": []
  },
  {
   "cell_type": "code",
   "execution_count": null,
   "metadata": {},
   "outputs": [],
   "source": []
  },
  {
   "cell_type": "code",
   "execution_count": null,
   "metadata": {},
   "outputs": [],
   "source": []
  },
  {
   "cell_type": "code",
   "execution_count": null,
   "metadata": {},
   "outputs": [],
   "source": []
  }
 ],
 "metadata": {
  "kernelspec": {
   "display_name": "Python 3",
   "language": "python",
   "name": "python3"
  },
  "language_info": {
   "codemirror_mode": {
    "name": "ipython",
    "version": 3
   },
   "file_extension": ".py",
   "mimetype": "text/x-python",
   "name": "python",
   "nbconvert_exporter": "python",
   "pygments_lexer": "ipython3",
   "version": "3.7.3"
  }
 },
 "nbformat": 4,
 "nbformat_minor": 2
}
