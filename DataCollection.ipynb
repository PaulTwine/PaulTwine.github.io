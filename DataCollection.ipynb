{
 "cells": [
  {
   "cell_type": "code",
   "execution_count": 1,
   "metadata": {},
   "outputs": [],
   "source": [
    "import numpy as np\n",
    "import LatticeDefinitions as ld\n",
    "import GeometryFunctions as gf\n",
    "import GeneralLattice as gl\n",
    "import LAMMPSDump as LD\n",
    "import matplotlib.pyplot as plt"
   ]
  },
  {
   "cell_type": "code",
   "execution_count": 41,
   "metadata": {},
   "outputs": [
    {
     "name": "stdout",
     "output_type": "stream",
     "text": [
      "-0.13714285714285715\n"
     ]
    }
   ],
   "source": [
    "##File format TripleLineNumber, Triple Line, Equivalent Triples Lines, Energy, Radius, Number Of Atoms\n",
    "strDirectory = '/home/paul/csf3_scratch/TripleLines/data'\n",
    "lstE = []\n",
    "print(-3.36/(2*12.25))"
   ]
  },
  {
   "cell_type": "code",
   "execution_count": 37,
   "metadata": {},
   "outputs": [],
   "source": [
    "lstE = []\n",
    "lstN = []\n",
    "for j in range(1,21):\n",
    "    strFileName = strDirectory + str(j) + '/summary.data' + str(j)\n",
    "    lstE.extend(np.loadtxt(strFileName,usecols=-3, delimiter= ','))\n",
    "    lstN.extend(np.loadtxt(strFileName,usecols=-1, delimiter= ','))"
   ]
  },
  {
   "cell_type": "code",
   "execution_count": 38,
   "metadata": {},
   "outputs": [],
   "source": [
    "lstMeanE = []\n",
    "for j in range(len(lstE)):\n",
    "    if lstN[j] !=0:\n",
    "        lstMeanE.append(lstE[j]/lstN[j]) \n",
    "\n"
   ]
  },
  {
   "cell_type": "code",
   "execution_count": 39,
   "metadata": {
    "scrolled": true
   },
   "outputs": [
    {
     "data": {
      "image/png": "[encoded data removed]",
      "text/plain": [
       "<Figure size 432x288 with 1 Axes>"
      ]
     },
     "metadata": {
      "needs_background": "light"
     },
     "output_type": "display_data"
    }
   ],
   "source": [
    "plt.hist(lstMeanE,bins =50);"
   ]
  },
  {
   "cell_type": "code",
   "execution_count": 14,
   "metadata": {},
   "outputs": [],
   "source": [
    "lstR =[]\n",
    "for j in range(1,7):\n",
    "    strFileName = strDirectory + str(j) + '/SummaryData' + str(j)\n",
    "    lstR.extend(np.loadtxt(strFileName, usecols=-2))\n",
    "    if np.min(lstR) < -500:\n",
    "        print(j)"
   ]
  },
  {
   "cell_type": "code",
   "execution_count": 22,
   "metadata": {},
   "outputs": [
    {
     "data": {
      "text/plain": [
       "[3.0374999999999996,\n",
       " 6.074999999999999,\n",
       " 3.0374999999999996,\n",
       " 7.0874999999999995,\n",
       " 7.0874999999999995,\n",
       " 3.0374999999999996,\n",
       " 4.05,\n",
       " 4.05,\n",
       " 3.0374999999999996,\n",
       " 5.0625,\n",
       " 3.0374999999999996,\n",
       " 3.0374999999999996,\n",
       " 3.0374999999999996,\n",
       " 3.0374999999999996,\n",
       " 3.0374999999999996,\n",
       " 4.05,\n",
       " 3.0374999999999996,\n",
       " 3.0374999999999996,\n",
       " 3.0374999999999996,\n",
       " 3.0374999999999996,\n",
       " 3.0374999999999996,\n",
       " 3.0374999999999996,\n",
       " 5.0625,\n",
       " 3.0374999999999996,\n",
       " 3.0374999999999996,\n",
       " 5.0625,\n",
       " 4.05,\n",
       " 5.0625,\n",
       " 3.0374999999999996,\n",
       " 3.0374999999999996,\n",
       " 5.0625,\n",
       " 3.0374999999999996,\n",
       " 3.0374999999999996,\n",
       " 3.0374999999999996,\n",
       " 3.0374999999999996,\n",
       " 3.0374999999999996,\n",
       " 3.0374999999999996,\n",
       " 5.0625,\n",
       " 3.0374999999999996,\n",
       " 3.0374999999999996,\n",
       " 3.0374999999999996,\n",
       " 3.0374999999999996,\n",
       " 3.0374999999999996,\n",
       " 3.0374999999999996,\n",
       " 3.0374999999999996,\n",
       " 3.0374999999999996,\n",
       " 3.0374999999999996,\n",
       " 3.0374999999999996,\n",
       " 4.05,\n",
       " 3.0374999999999996,\n",
       " 4.05,\n",
       " 3.0374999999999996,\n",
       " 3.0374999999999996,\n",
       " 3.0374999999999996,\n",
       " 3.0374999999999996,\n",
       " 4.05,\n",
       " 3.0374999999999996,\n",
       " 4.05,\n",
       " 4.05,\n",
       " 4.05,\n",
       " 3.0374999999999996,\n",
       " 3.0374999999999996,\n",
       " 4.05,\n",
       " 4.05,\n",
       " 3.0374999999999996,\n",
       " 4.05]"
      ]
     },
     "execution_count": 22,
     "metadata": {},
     "output_type": "execute_result"
    }
   ],
   "source": [
    "lstR"
   ]
  },
  {
   "cell_type": "code",
   "execution_count": 12,
   "metadata": {},
   "outputs": [
    {
     "data": {
      "text/plain": [
       "11.666666666666666"
      ]
     },
     "execution_count": 12,
     "metadata": {},
     "output_type": "execute_result"
    }
   ],
   "source": [
    "140/13"
   ]
  },
  {
   "cell_type": "code",
   "execution_count": null,
   "metadata": {},
   "outputs": [],
   "source": []
  }
 ],
 "metadata": {
  "kernelspec": {
   "display_name": "Python 3",
   "language": "python",
   "name": "python3"
  },
  "language_info": {
   "codemirror_mode": {
    "name": "ipython",
    "version": 3
   },
   "file_extension": ".py",
   "mimetype": "text/x-python",
   "name": "python",
   "nbconvert_exporter": "python",
   "pygments_lexer": "ipython3",
   "version": "3.7.3"
  }
 },
 "nbformat": 4,
 "nbformat_minor": 2
}
