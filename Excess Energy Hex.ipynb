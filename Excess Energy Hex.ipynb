{
 "cells": [
  {
   "cell_type": "code",
   "execution_count": 1,
   "metadata": {},
   "outputs": [],
   "source": [
    "import numpy as np\n",
    "import os\n",
    "from mpl_toolkits.mplot3d import Axes3D\n",
    "import matplotlib.pyplot as plt\n",
    "from matplotlib import transforms\n",
    "from scipy import optimize\n",
    "from scipy import stats\n",
    "import GeometryFunctions as gf\n",
    "import GeneralLattice as gl\n",
    "import LAMMPSTool as LT "
   ]
  },
  {
   "cell_type": "code",
   "execution_count": 2,
   "metadata": {},
   "outputs": [],
   "source": [
    "objdct = dict()\n",
    "intSigma = 7\n",
    "strRoot = 'Sigma' + str(intSigma)+ '/Expand/'\n",
    "for j in os.listdir(strRoot):\n",
    "    if j.endswith('.dmp'):\n",
    "        objData = LT.LAMMPSData(strRoot+ str(j),1,4.05, LT.LAMMPSGlobal)\n",
    "        objHex = objData.GetTimeStepByIndex(-1)\n",
    "        objdct[j] = objHex\n",
    "#print(objHex.GetExteriorGrainAtomIDs(1))"
   ]
  },
  {
   "cell_type": "code",
   "execution_count": 10,
   "metadata": {},
   "outputs": [
    {
     "data": {
      "text/plain": [
       "<matplotlib.collections.PathCollection at 0x2b96f2bc3f98>"
      ]
     },
     "execution_count": 10,
     "metadata": {},
     "output_type": "execute_result"
    },
    {
     "data": {
      "image/png": "[encoded data removed]",
      "text/plain": [
       "<Figure size 432x288 with 1 Axes>"
      ]
     },
     "metadata": {},
     "output_type": "display_data"
    }
   ],
   "source": [
    "plt.scatter(*tuple(zip(*objHex.GetAtomsByID(objHex.GetExteriorGrainAtomIDs(3))[:,1:3])))"
   ]
  },
  {
   "cell_type": "code",
   "execution_count": null,
   "metadata": {},
   "outputs": [],
   "source": [
    "print(objHex.GetColumnNames())\n",
    "lstLengths = []\n",
    "lstTotalEnergy = []\n",
    "lstExcessStrain =[]\n",
    "lstLatticeAtoms = []\n",
    "lstVStrain = []\n",
    "for k in objdct.keys():\n",
    "    lstLengths.append(np.linalg.norm(objdct[k].GetCellVectors()[0]))\n",
    "    lstLatticeAtoms = objdct[k].GetLatticetomIDs()\n",
    "    lstExcessStrain.append((np.median(objdct[k].GetAtomsByID(lstLatticeAtoms)[:,7])+3.36)*len(lstLatticeAtoms))\n",
    "    lstVStrain.append(np.median(objdct[k].GetAtomsByID(lstLatticeAtoms)[:,10]))\n",
    "    #fltMean = np.mean(objdct[k].GetAtomsByID(lstLatticeAtoms)[:,7])\n",
    "    arrVals = stats.gamma.fit(objdct[k].GetPTMAtoms()[:,7])\n",
    "    fltMean = arrVals[1]\n",
    "    lstTotalEnergy.append(np.sum(objdct[k].GetColumnByName('c_pe1')) -fltMean*objdct[k].GetNumberOfAtoms())"
   ]
  },
  {
   "cell_type": "code",
   "execution_count": null,
   "metadata": {},
   "outputs": [],
   "source": [
    "arrVals = stats.gamma.fit(objdct[k].GetPTMAtoms()[:,7])\n",
    "print(arrVals, arrVals[1]+arrVals[2])\n",
    "plt.hist(objdct[k].GetPTMAtoms()[:,7],200)\n",
    "plt.hist(objdct[k].GetNonPTMAtoms()[:,7],200)\n",
    "plt.ylim([0,500])\n",
    "print(np.median(objdct[k].GetPTMAtoms()[:,7]), np.mean(objdct[k].GetPTMAtoms()[:,7]))"
   ]
  },
  {
   "cell_type": "code",
   "execution_count": null,
   "metadata": {},
   "outputs": [],
   "source": [
    "print(lstExcessStrain)"
   ]
  },
  {
   "cell_type": "code",
   "execution_count": null,
   "metadata": {},
   "outputs": [],
   "source": [
    "def DirectProportion(l,a1):\n",
    "    return a1*l\n",
    "def LinearFit(l,a0,a1):\n",
    "    return a0+a1*l\n",
    "def CubicFit(l,a2,a1, a0):\n",
    "    return a2*l**2 + a1*l +a0*np.log(l)\n",
    "arr =np.argsort(lstLengths).astype('int')\n",
    "arrLengths = np.array(lstLengths)[arr]\n",
    "arrStrain = np.array(lstExcessStrain)[arr]\n",
    "arrTotal = np.array(lstTotalEnergy)[arr]\n",
    "arrVStrain = np.array(lstVStrain)[arr]\n",
    "#plt.scatter(arrLengths,arrTotal)\n",
    "#plt.ylim([-0.005,0.001])\n",
    "plt.scatter(arrLengths, arrStrain)\n",
    "popt2, popv2 = optimize.curve_fit(LinearFit, arrLengths, arrStrain)\n",
    "arrFitted = LinearFit(arrLengths, *popt2)\n",
    "plt.plot(arrLengths,arrFitted)\n",
    "print(popt2)"
   ]
  },
  {
   "cell_type": "code",
   "execution_count": null,
   "metadata": {},
   "outputs": [],
   "source": [
    "print(arrFitted,popt2)"
   ]
  },
  {
   "cell_type": "code",
   "execution_count": null,
   "metadata": {},
   "outputs": [],
   "source": [
    "###### print(arrFitted,popt2)"
   ]
  },
  {
   "cell_type": "code",
   "execution_count": null,
   "metadata": {
    "scrolled": false
   },
   "outputs": [],
   "source": [
    "\n",
    "popt, popv = optimize.curve_fit(LinearFit, lstLengths, lstTotalEnergy)\n",
    "print(popt)\n",
    "arrFitted = LinearFit(np.array(arrLengths), *popt)\n",
    "arrC = np.polynomial.legendre.legfit(lstLengths, lstTotalEnergy,2)\n",
    "np.polynomial.legendre.leg2poly(arrC)"
   ]
  },
  {
   "cell_type": "code",
   "execution_count": null,
   "metadata": {},
   "outputs": [],
   "source": [
    "plt.scatter(lstLengths, lstTotalEnergy)\n",
    "plt.plot(arrLengths, arrFitted, c='r')\n",
    "plt.xlabel('Simulation Cell Side Length in $\\AA$')\n",
    "plt.ylabel('Total Potential Energy in $eV$')\n",
    "plt.title('Simulation Cells Consisting of Sigma ' + str(intSigma) + ' CSL Units')\n",
    "plt.show()"
   ]
  },
  {
   "cell_type": "code",
   "execution_count": null,
   "metadata": {},
   "outputs": [],
   "source": [
    "objData = LT.LAMMPSData('/home/paul/PythonLAMMPS/Hex222Sigma7.dmp',1,4.05, LT.LAMMPSGlobal)\n",
    "objHex = objData.GetTimeStepByIndex(-1)\n",
    "fltDatum = np.mean(objHex.GetColumnByName('c_pe1'))\n",
    "print(fltDatum)"
   ]
  },
  {
   "cell_type": "code",
   "execution_count": null,
   "metadata": {},
   "outputs": [],
   "source": [
    "intSigma = 7\n",
    "objdct= dict()\n",
    "#strDirectory = '/home/paul/csf3_scratch/Sigma' + str(intSigma) + '/'\n",
    "strDirectory = '/home/paul/PythonLAMMPS/'\n",
    "lstHexNames = ['122','133','233', '123','222' ]\n",
    "for j in lstHexNames:\n",
    "    strFile = strDirectory + 'Hex' + str(j) + 'Sigma' + str(intSigma) + '.dmp'\n",
    "    objData = LT.LAMMPSData(strFile,1,4.05, LT.LAMMPSGlobal)\n",
    "    objHex = objData.GetTimeStepByIndex(-1)\n",
    "   # objHex.ReadInDefectData(strFile[:-3] + 'dfc')\n",
    "    objdct[j] = objHex"
   ]
  },
  {
   "cell_type": "code",
   "execution_count": null,
   "metadata": {},
   "outputs": [],
   "source": [
    "print(objdct['123'].GetColumnNames())\n",
    "np.sum(objdct['233'].GetAtomsByID(objdct['233'].GetLatticeAtomIDs())[:,7]) +3.360000236*len(objdct['233'].GetLatticeAtomIDs())"
   ]
  },
  {
   "cell_type": "code",
   "execution_count": null,
   "metadata": {},
   "outputs": [],
   "source": [
    "def ExcessEnergies(objHex, lstGBs, lstTJs, lstGN, fltDatum = 3.360000023):\n",
    "    fltGB = 0\n",
    "    fltTJ = 0\n",
    "    fltGN = 0\n",
    "    for i in lstGBs:\n",
    "        fltGB += objHex.GetGrainBoundary(i).GetTotalPE() + fltDatum*objHex.GetGrainBoundary(i).GetNumberOfAtoms()\n",
    "    for j in lstTJs:\n",
    "        fltTJ += objHex.GetJunctionLine(j).GetTotalPE() + fltDatum*objHex.GetJunctionLine(j).GetNumberOfAtoms()\n",
    "    for k in lstGN:\n",
    "        fltGN += np.sum(objHex.GetAtomsByID(objHex.GetGrainAtomIDs(k))[:,7]) + fltDatum*len(objHex.GetGrainAtomIDs(k))\n",
    "    return [fltGB, fltTJ, fltGN]"
   ]
  },
  {
   "cell_type": "code",
   "execution_count": null,
   "metadata": {},
   "outputs": [],
   "source": []
  },
  {
   "cell_type": "code",
   "execution_count": null,
   "metadata": {},
   "outputs": [],
   "source": [
    "def GetTotalAtoms(objHex, intGrainNumber):\n",
    "    intNumberOfAtoms = 0\n",
    "    intNumberOfAtoms = len(objHex.GetGrainAtomIDs(intGrainNumber))\n",
    "    for j in objHex.GetGrainBoundaryIDs():\n",
    "        if intGrainNumber in objHex.GetGrainBoundary(j).GetAdjacentGrains():\n",
    "            intNumberOfAtoms += objHex.GetGrainBoundary(j).GetNumberOfAtoms()\n",
    "    for k in objHex.GetJunctionLineIDs():\n",
    "        if intGrainNumber in objHex.GetJunctionLine(k).GetAdjacentGrains():\n",
    "            intNumberOfAtoms += objHex.GetJunctionLine(k).GetNumberOfAtoms()\n",
    "    return intNumberOfAtoms"
   ]
  },
  {
   "cell_type": "code",
   "execution_count": null,
   "metadata": {},
   "outputs": [],
   "source": [
    "flt123 = np.sum(lst123)\n",
    "flt122 = GetTotalAtoms(objHex123,2)*np.sum(lst122)/GetTotalAtoms(objHex122,2)\n",
    "flt133 = GetTotalAtoms(objHex123,2)*np.sum(lst133)/GetTotalAtoms(objHex133,2)\n",
    "flt233 = GetTotalAtoms(objHex123,2)*np.sum(lst233)/GetTotalAtoms(objHex233,2)\n",
    "print(flt123-0.5*(flt122+flt133+flt233))"
   ]
  },
  {
   "cell_type": "code",
   "execution_count": null,
   "metadata": {},
   "outputs": [],
   "source": [
    "fltTotalPE123 = np.sum(objdct['123'].GetAtomData()[:,7])\n",
    "fltMinusOff = 0\n",
    "for j in lstHexNames[1:]:\n",
    "    fltMinusOff += 0.5*objdct['123'].GetNumberOfAtoms()*np.mean(objdct[j].GetAtomData()[:,7])\n",
    "fltTotalPE123-fltMinusOff-0.5*fltDatum*objdct['123'].GetNumberOfAtoms()"
   ]
  },
  {
   "cell_type": "code",
   "execution_count": null,
   "metadata": {},
   "outputs": [],
   "source": [
    "np.std(objdct['133'].GetAtomsByID(objdct['133'].GetLatticeAtomIDs())[:,7])"
   ]
  },
  {
   "cell_type": "code",
   "execution_count": null,
   "metadata": {},
   "outputs": [],
   "source": [
    "print(lstHexNames)\n",
    "for j in lstHexNames:\n",
    "    print(objdct[j].GetNumberOfAtoms())\n",
    "GetExcessEnergy(objdct['123'], fltDatum)"
   ]
  },
  {
   "cell_type": "code",
   "execution_count": null,
   "metadata": {},
   "outputs": [],
   "source": [
    "def GetExcessEnergy(objGlobal, fltdatum):\n",
    "    fltTotalPE = np.sum(objGlobal.GetAtomData()[:,7])\n",
    "    fltExcess = fltTotalPE -fltdatum*objGlobal.GetNumberOfAtoms()\n",
    "    return fltExcess/objGlobal.GetNumberOfAtoms()"
   ]
  },
  {
   "cell_type": "code",
   "execution_count": null,
   "metadata": {},
   "outputs": [],
   "source": [
    "fltPerAtom =GetExcessEnergy(objdct['123'],fltDatum)-0.5*(GetExcessEnergy(objdct['122'],fltDatum)\n",
    "                                             +GetExcessEnergy(objdct['133'],fltDatum)\n",
    "                                             + GetExcessEnergy(objdct['233'],fltDatum))\n",
    "print(fltPerAtom)"
   ]
  },
  {
   "cell_type": "code",
   "execution_count": null,
   "metadata": {},
   "outputs": [],
   "source": [
    "GetExcessEnergy(objHex123,-3.36)-0.5*(GetExcessEnergy(objHex122, -3.36)+GetExcessEnergy(objHex133, -3.36)+(intAtoms123/intAtoms233)*GetExcessEnergy(objHex233, -3.36))"
   ]
  },
  {
   "cell_type": "code",
   "execution_count": null,
   "metadata": {},
   "outputs": [],
   "source": [
    "(np.mean(objHex133.GetAtomsByID(objHex133.GetLatticeAtomIDs())[:,7])+3.36000002)*len(objHex133.GetLatticeAtomIDs())"
   ]
  },
  {
   "cell_type": "code",
   "execution_count": null,
   "metadata": {},
   "outputs": [],
   "source": []
  },
  {
   "cell_type": "code",
   "execution_count": null,
   "metadata": {},
   "outputs": [],
   "source": []
  },
  {
   "cell_type": "code",
   "execution_count": null,
   "metadata": {},
   "outputs": [],
   "source": []
  },
  {
   "cell_type": "code",
   "execution_count": null,
   "metadata": {},
   "outputs": [],
   "source": []
  }
 ],
 "metadata": {
  "kernelspec": {
   "display_name": "Python 3",
   "language": "python",
   "name": "python3"
  },
  "language_info": {
   "codemirror_mode": {
    "name": "ipython",
    "version": 3
   },
   "file_extension": ".py",
   "mimetype": "text/x-python",
   "name": "python",
   "nbconvert_exporter": "python",
   "pygments_lexer": "ipython3",
   "version": "3.6.5"
  }
 },
 "nbformat": 4,
 "nbformat_minor": 5
}
