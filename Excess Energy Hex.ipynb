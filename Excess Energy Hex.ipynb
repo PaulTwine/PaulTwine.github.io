{
 "cells": [
  {
   "cell_type": "code",
   "execution_count": 1,
   "id": "banner-champagne",
   "metadata": {},
   "outputs": [],
   "source": [
    "import numpy as np\n",
    "import os\n",
    "from mpl_toolkits.mplot3d import Axes3D\n",
    "import matplotlib.pyplot as plt\n",
    "from matplotlib import transforms\n",
    "from scipy import optimize\n",
    "import GeometryFunctions as gf\n",
    "import GeneralLattice as gl\n",
    "import LAMMPSTool as LT "
   ]
  },
  {
   "cell_type": "code",
   "execution_count": 27,
   "id": "coupled-nicholas",
   "metadata": {},
   "outputs": [],
   "source": [
    "objdct = dict()\n",
    "strRoot = '/home/paul/csf3_scratch/Sigma13/Expand/'\n",
    "for j in os.listdir(strRoot):\n",
    "    if j.endswith('.dmp'):\n",
    "        objData = LT.LAMMPSData(strRoot+ str(j),1,4.05, LT.LAMMPSGlobal)\n",
    "        objHex = objData.GetTimeStepByIndex(-1)\n",
    "        objdct[j] = objHex\n"
   ]
  },
  {
   "cell_type": "code",
   "execution_count": 28,
   "id": "equipped-lying",
   "metadata": {},
   "outputs": [],
   "source": [
    "lstLengths = []\n",
    "lstTotalEnergy = []\n",
    "for k in objdct.keys():\n",
    "    lstLengths.append(np.linalg.norm(objdct[k].GetCellVectors()[0]))\n",
    "    lstTotalEnergy.append(np.sum(objdct[k].GetColumnByName('c_pe1'))+3.36000002*objdct[k].GetNumberOfAtoms())"
   ]
  },
  {
   "cell_type": "code",
   "execution_count": 29,
   "id": "bored-joining",
   "metadata": {
    "scrolled": false
   },
   "outputs": [
    {
     "name": "stdout",
     "output_type": "stream",
     "text": [
      "[-1.93434564  0.70203554]\n"
     ]
    },
    {
     "data": {
      "text/plain": [
       "array([2.38092829e+00, 6.74715034e-01, 3.14489697e-05])"
      ]
     },
     "execution_count": 29,
     "metadata": {},
     "output_type": "execute_result"
    }
   ],
   "source": [
    "def LinearFit(l, a0,a1):\n",
    "    return +a1*l +a0\n",
    "def CubicFit(l,a2,a1, a0):\n",
    "    return a2*l**2 + a1*l +a0*np.log(l)\n",
    "popt, popv = optimize.curve_fit(LinearFit, lstLengths, lstTotalEnergy)\n",
    "print(popt)\n",
    "lstFitted = LinearFit(np.array(lstLengths), *popt)\n",
    "arrC = np.polynomial.legendre.legfit(lstLengths, lstTotalEnergy,2)\n",
    "np.polynomial.legendre.leg2poly(arrC)"
   ]
  },
  {
   "cell_type": "code",
   "execution_count": 22,
   "id": "conventional-refrigerator",
   "metadata": {},
   "outputs": [
    {
     "data": {
      "image/png": "[encoded data removed]",
      "text/plain": [
       "<Figure size 432x288 with 1 Axes>"
      ]
     },
     "metadata": {
      "needs_background": "light"
     },
     "output_type": "display_data"
    }
   ],
   "source": [
    "plt.scatter(lstLengths, lstTotalEnergy)\n",
    "plt.plot(np.sort(lstLengths), np.sort(lstFitted), c='r')\n",
    "plt.xlabel('Simulation Cell Side Length in $\\AA$')\n",
    "plt.ylabel('Total Potential Energy in $eV$')\n",
    "plt.title('Simulation Cells Consisting of Sigma 13 CSL Units')\n",
    "plt.show()"
   ]
  },
  {
   "cell_type": "code",
   "execution_count": 82,
   "id": "enhanced-miami",
   "metadata": {},
   "outputs": [
    {
     "name": "stderr",
     "output_type": "stream",
     "text": [
      "/home/paul/TripleLines.github.io/LAMMPSTool.py:235: UserWarning: Error missing atom structure types in dump file.\n",
      "  warnings.warn('Error missing atom structure types in dump file.')\n",
      "/home/paul/TripleLines.github.io/LAMMPSTool.py:239: UserWarning: Per atom volume data is missing.\n",
      "  warnings.warn('Per atom volume data is missing.')\n"
     ]
    },
    {
     "name": "stdout",
     "output_type": "stream",
     "text": [
      "-3.35981559350741\n"
     ]
    }
   ],
   "source": [
    "objData = LT.LAMMPSData('/home/paul/PythonLAMMPS/Hex222Sigma7.dmp',1,4.05, LT.LAMMPSGlobal)\n",
    "objHex = objData.GetTimeStepByIndex(-1)\n",
    "fltDatum = np.mean(objHex.GetColumnByName('c_pe1'))\n",
    "print(fltDatum)"
   ]
  },
  {
   "cell_type": "code",
   "execution_count": 7,
   "id": "dependent-bench",
   "metadata": {},
   "outputs": [],
   "source": [
    "intSigma = 7\n",
    "objdct= dict()\n",
    "#strDirectory = '/home/paul/csf3_scratch/Sigma' + str(intSigma) + '/'\n",
    "strDirectory = '/home/paul/PythonLAMMPS/'\n",
    "lstHexNames = ['122','133','233', '123','222' ]\n",
    "for j in lstHexNames:\n",
    "    strFile = strDirectory + 'Hex' + str(j) + 'Sigma' + str(intSigma) + '.dmp'\n",
    "    objData = LT.LAMMPSData(strFile,1,4.05, LT.LAMMPSGlobal)\n",
    "    objHex = objData.GetTimeStepByIndex(-1)\n",
    "   # objHex.ReadInDefectData(strFile[:-3] + 'dfc')\n",
    "    objdct[j] = objHex"
   ]
  },
  {
   "cell_type": "code",
   "execution_count": null,
   "id": "mobile-invalid",
   "metadata": {},
   "outputs": [],
   "source": [
    "print(objdct['123'].GetColumnNames())\n",
    "np.sum(objdct['233'].GetAtomsByID(objdct['233'].GetLatticeAtomIDs())[:,7]) +3.360000236*len(objdct['233'].GetLatticeAtomIDs())"
   ]
  },
  {
   "cell_type": "code",
   "execution_count": 6,
   "id": "vertical-tomorrow",
   "metadata": {},
   "outputs": [],
   "source": [
    "def ExcessEnergies(objHex, lstGBs, lstTJs, lstGN, fltDatum = 3.360000023):\n",
    "    fltGB = 0\n",
    "    fltTJ = 0\n",
    "    fltGN = 0\n",
    "    for i in lstGBs:\n",
    "        fltGB += objHex.GetGrainBoundary(i).GetTotalPE() + fltDatum*objHex.GetGrainBoundary(i).GetNumberOfAtoms()\n",
    "    for j in lstTJs:\n",
    "        fltTJ += objHex.GetJunctionLine(j).GetTotalPE() + fltDatum*objHex.GetJunctionLine(j).GetNumberOfAtoms()\n",
    "    for k in lstGN:\n",
    "        fltGN += np.sum(objHex.GetAtomsByID(objHex.GetGrainAtomIDs(k))[:,7]) + fltDatum*len(objHex.GetGrainAtomIDs(k))\n",
    "    return [fltGB, fltTJ, fltGN]"
   ]
  },
  {
   "cell_type": "code",
   "execution_count": null,
   "id": "collect-crowd",
   "metadata": {},
   "outputs": [],
   "source": []
  },
  {
   "cell_type": "code",
   "execution_count": null,
   "id": "upset-tobago",
   "metadata": {},
   "outputs": [],
   "source": [
    "def GetTotalAtoms(objHex, intGrainNumber):\n",
    "    intNumberOfAtoms = 0\n",
    "    intNumberOfAtoms = len(objHex.GetGrainAtomIDs(intGrainNumber))\n",
    "    for j in objHex.GetGrainBoundaryIDs():\n",
    "        if intGrainNumber in objHex.GetGrainBoundary(j).GetAdjacentGrains():\n",
    "            intNumberOfAtoms += objHex.GetGrainBoundary(j).GetNumberOfAtoms()\n",
    "    for k in objHex.GetJunctionLineIDs():\n",
    "        if intGrainNumber in objHex.GetJunctionLine(k).GetAdjacentGrains():\n",
    "            intNumberOfAtoms += objHex.GetJunctionLine(k).GetNumberOfAtoms()\n",
    "    return intNumberOfAtoms"
   ]
  },
  {
   "cell_type": "code",
   "execution_count": null,
   "id": "bacterial-classics",
   "metadata": {},
   "outputs": [],
   "source": [
    "flt123 = np.sum(lst123)\n",
    "flt122 = GetTotalAtoms(objHex123,2)*np.sum(lst122)/GetTotalAtoms(objHex122,2)\n",
    "flt133 = GetTotalAtoms(objHex123,2)*np.sum(lst133)/GetTotalAtoms(objHex133,2)\n",
    "flt233 = GetTotalAtoms(objHex123,2)*np.sum(lst233)/GetTotalAtoms(objHex233,2)\n",
    "print(flt123-0.5*(flt122+flt133+flt233))"
   ]
  },
  {
   "cell_type": "code",
   "execution_count": null,
   "id": "alleged-relative",
   "metadata": {},
   "outputs": [],
   "source": [
    "fltTotalPE123 = np.sum(objdct['123'].GetAtomData()[:,7])\n",
    "fltMinusOff = 0\n",
    "for j in lstHexNames[1:]:\n",
    "    fltMinusOff += 0.5*objdct['123'].GetNumberOfAtoms()*np.mean(objdct[j].GetAtomData()[:,7])\n",
    "fltTotalPE123-fltMinusOff-0.5*fltDatum*objdct['123'].GetNumberOfAtoms()"
   ]
  },
  {
   "cell_type": "code",
   "execution_count": null,
   "id": "ancient-background",
   "metadata": {},
   "outputs": [],
   "source": [
    "np.std(objdct['133'].GetAtomsByID(objdct['133'].GetLatticeAtomIDs())[:,7])"
   ]
  },
  {
   "cell_type": "code",
   "execution_count": 6,
   "id": "interim-constitutional",
   "metadata": {},
   "outputs": [
    {
     "name": "stdout",
     "output_type": "stream",
     "text": [
      "['122', '133', '233', '123']\n",
      "14205\n",
      "14196\n",
      "14175\n",
      "14202\n"
     ]
    },
    {
     "ename": "NameError",
     "evalue": "name 'GetExcessEnergy' is not defined",
     "output_type": "error",
     "traceback": [
      "\u001b[0;31m---------------------------------------------------------------------------\u001b[0m",
      "\u001b[0;31mNameError\u001b[0m                                 Traceback (most recent call last)",
      "\u001b[0;32m<ipython-input-6-810a3aa94acf>\u001b[0m in \u001b[0;36m<module>\u001b[0;34m\u001b[0m\n\u001b[1;32m      2\u001b[0m \u001b[0;32mfor\u001b[0m \u001b[0mj\u001b[0m \u001b[0;32min\u001b[0m \u001b[0mlstHexNames\u001b[0m\u001b[0;34m:\u001b[0m\u001b[0;34m\u001b[0m\u001b[0;34m\u001b[0m\u001b[0m\n\u001b[1;32m      3\u001b[0m     \u001b[0mprint\u001b[0m\u001b[0;34m(\u001b[0m\u001b[0mobjdct\u001b[0m\u001b[0;34m[\u001b[0m\u001b[0mj\u001b[0m\u001b[0;34m]\u001b[0m\u001b[0;34m.\u001b[0m\u001b[0mGetNumberOfAtoms\u001b[0m\u001b[0;34m(\u001b[0m\u001b[0;34m)\u001b[0m\u001b[0;34m)\u001b[0m\u001b[0;34m\u001b[0m\u001b[0;34m\u001b[0m\u001b[0m\n\u001b[0;32m----> 4\u001b[0;31m \u001b[0mGetExcessEnergy\u001b[0m\u001b[0;34m(\u001b[0m\u001b[0mobjdct\u001b[0m\u001b[0;34m[\u001b[0m\u001b[0;34m'123'\u001b[0m\u001b[0;34m]\u001b[0m\u001b[0;34m,\u001b[0m \u001b[0mfltDatum\u001b[0m\u001b[0;34m)\u001b[0m\u001b[0;34m\u001b[0m\u001b[0;34m\u001b[0m\u001b[0m\n\u001b[0m",
      "\u001b[0;31mNameError\u001b[0m: name 'GetExcessEnergy' is not defined"
     ]
    }
   ],
   "source": [
    "print(lstHexNames)\n",
    "for j in lstHexNames:\n",
    "    print(objdct[j].GetNumberOfAtoms())\n",
    "GetExcessEnergy(objdct['123'], fltDatum)"
   ]
  },
  {
   "cell_type": "code",
   "execution_count": 58,
   "id": "chronic-separate",
   "metadata": {},
   "outputs": [],
   "source": [
    "def GetExcessEnergy(objGlobal, fltdatum):\n",
    "    fltTotalPE = np.sum(objGlobal.GetAtomData()[:,7])\n",
    "    fltExcess = fltTotalPE -fltdatum*objGlobal.GetNumberOfAtoms()\n",
    "    return fltExcess/objGlobal.GetNumberOfAtoms()"
   ]
  },
  {
   "cell_type": "code",
   "execution_count": 59,
   "id": "bronze-malawi",
   "metadata": {},
   "outputs": [
    {
     "name": "stdout",
     "output_type": "stream",
     "text": [
      "0.00042114463484994695\n"
     ]
    }
   ],
   "source": [
    "fltPerAtom =GetExcessEnergy(objdct['123'],fltDatum)-0.5*(GetExcessEnergy(objdct['122'],fltDatum)\n",
    "                                             +GetExcessEnergy(objdct['133'],fltDatum)\n",
    "                                             + GetExcessEnergy(objdct['233'],fltDatum))\n",
    "print(fltPerAtom)"
   ]
  },
  {
   "cell_type": "code",
   "execution_count": null,
   "id": "historic-interest",
   "metadata": {},
   "outputs": [],
   "source": [
    "GetExcessEnergy(objHex123,-3.36)-0.5*(GetExcessEnergy(objHex122, -3.36)+GetExcessEnergy(objHex133, -3.36)+(intAtoms123/intAtoms233)*GetExcessEnergy(objHex233, -3.36))"
   ]
  },
  {
   "cell_type": "code",
   "execution_count": null,
   "id": "creative-lawyer",
   "metadata": {},
   "outputs": [],
   "source": [
    "(np.mean(objHex133.GetAtomsByID(objHex133.GetLatticeAtomIDs())[:,7])+3.36000002)*len(objHex133.GetLatticeAtomIDs())"
   ]
  },
  {
   "cell_type": "code",
   "execution_count": null,
   "id": "tracked-fault",
   "metadata": {},
   "outputs": [],
   "source": []
  },
  {
   "cell_type": "code",
   "execution_count": null,
   "id": "deluxe-richardson",
   "metadata": {},
   "outputs": [],
   "source": []
  },
  {
   "cell_type": "code",
   "execution_count": null,
   "id": "congressional-rebecca",
   "metadata": {},
   "outputs": [],
   "source": []
  },
  {
   "cell_type": "code",
   "execution_count": null,
   "id": "consistent-treaty",
   "metadata": {},
   "outputs": [],
   "source": []
  }
 ],
 "metadata": {
  "kernelspec": {
   "display_name": "Python 3",
   "language": "python",
   "name": "python3"
  },
  "language_info": {
   "codemirror_mode": {
    "name": "ipython",
    "version": 3
   },
   "file_extension": ".py",
   "mimetype": "text/x-python",
   "name": "python",
   "nbconvert_exporter": "python",
   "pygments_lexer": "ipython3",
   "version": "3.7.3"
  }
 },
 "nbformat": 4,
 "nbformat_minor": 5
}
