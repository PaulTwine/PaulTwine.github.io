{
 "cells": [
  {
   "cell_type": "code",
   "execution_count": 1,
   "metadata": {},
   "outputs": [],
   "source": [
    "import numpy as np\n",
    "from mpl_toolkits.mplot3d import Axes3D\n",
    "import matplotlib.pyplot as plt\n",
    "from matplotlib.ticker import FormatStrFormatter\n",
    "import LatticeDefinitions as ld\n",
    "import GeometryFunctions as gf\n",
    "import GeneralLattice as gl\n",
    "import LAMMPSDump as LD\n",
    "import scipy as sc\n",
    "from skimage.morphology import skeletonize, thin, medial_axis\n",
    "import os\n",
    "from skimage.measure import label, regionprops\n",
    "from IPython.core.debugger import set_trace"
   ]
  },
  {
   "cell_type": "markdown",
   "metadata": {},
   "source": [
    "Estimating the triple line energy using curve fitting. \n",
    "In theory the potential energy enclosed in a cylinder should follow the following equation \n",
    "$P(r) = \\pi h P_{volume}r^2 + \\left<w\\right> \\left< \\gamma \\right> r + f(r)$ "
   ]
  },
  {
   "cell_type": "code",
   "execution_count": 2,
   "metadata": {},
   "outputs": [],
   "source": [
    "def CylinderVolume(h, R)->float:\n",
    "    return np.pi*h*R**2\n",
    "def Tanh(r,a, b,c):\n",
    "    return a*np.tanh(b*r)+c\n",
    "def Reciprocal(r,a,b,c):\n",
    "    return a/(r+b)+c\n",
    "def FitFunction(r,a,b,c)->float:\n",
    "    return a*np.tanh(r*b)+c*r\n",
    "def FitExcess(r,a,b):\n",
    "    return a*np.log(np.abs(r+1))+b*r\n",
    "def PowerRule(r, a,b):\n",
    "    return a*r**b\n",
    "def ProportionalRule(r,m):\n",
    "    return m*r\n",
    "def LinearRule(r,m,c):\n",
    "    return r*m+c \n",
    "def Quadratic(r,a,b,c):\n",
    "    return a*r**2+b*r+c\n",
    "def TQuadratic(r,b,c):\n",
    "    return A*r**2+b*r+c\n",
    "def DiffPowerRule(r,a,b):\n",
    "    return b*a*r**(a-1)\n",
    "def AsymptoticLinear(r,a,b):\n",
    "    return a*r - b*np.log(r+b/a) + b*np.log(b/a)\n",
    "def DiffAL(r,a,b):\n",
    "    return a -b/(r+b/a)\n",
    "def Rational(r,a,b,c):\n",
    "    return (a*r**3+b)/(r**2+c)\n",
    "def Composite(r,a,b,c):\n",
    "    return a*r + b*(r+1)**(-1) +c"
   ]
  },
  {
   "cell_type": "code",
   "execution_count": 48,
   "metadata": {},
   "outputs": [
    {
     "name": "stdout",
     "output_type": "stream",
     "text": [
      "[[0, 2, 8, 10], [1, 9], [3, 5], [4], [6], [7]]\n"
     ]
    },
    {
     "data": {
      "image/png": "[encoded data removed]",
      "text/plain": [
       "<Figure size 432x288 with 1 Axes>"
      ]
     },
     "metadata": {
      "needs_background": "light"
     },
     "output_type": "display_data"
    },
    {
     "data": {
      "image/png": "[encoded data removed]",
      "text/plain": [
       "<Figure size 432x288 with 1 Axes>"
      ]
     },
     "metadata": {
      "needs_background": "light"
     },
     "output_type": "display_data"
    }
   ],
   "source": [
    "strDumpFile = '../../PythonLAMMPS/VolumeTest/dump.eam'\n",
    "#strDumpFile = '../data/dump.eam'\n",
    "a1=4.05\n",
    "strPMFile = strDumpFile + 'PM'\n",
    "objData = LD.LAMMPSData(strPMFile,1)\n",
    "objProcess = objData.GetTimeStepByIndex(-1)\n",
    "objProcess.CategoriseAtoms()\n",
    "h = objProcess.CellHeight\n",
    "arrTriplePoints = objProcess.FindTriplePoints(4.05,2*4.05)\n",
    "print(objProcess.MergePeriodicTripleLines(4.05))\n",
    "lstR, lstV,lstI = objProcess.FindThreeGrainStrips(6,4.05,4.05/4)\n",
    "plt.scatter(lstR,lstV)\n",
    "plt.show()\n",
    "plt.axis('equal')\n",
    "for j in range(len(objProcess.GetGrainBoundaries())):\n",
    "    plt.scatter(objProcess.GetGrainBoundaries(j).GetPoints()[:,0], objProcess.GetGrainBoundaries(j).GetPoints()[:,1])\n",
    "plt.legend(list(range(len(objProcess.GetGrainBoundaries()))))\n",
    "plt.scatter(objProcess.GetAtomsByID(lstI)[:,1],objProcess.GetAtomsByID(lstI)[:,2], c='black')\n",
    "plt.show()"
   ]
  },
  {
   "cell_type": "code",
   "execution_count": 50,
   "metadata": {},
   "outputs": [
    {
     "data": {
      "text/plain": [
       "True"
      ]
     },
     "execution_count": 50,
     "metadata": {},
     "output_type": "execute_result"
    }
   ],
   "source": [
    "def CheckGB(arrGB1, arrGB2, fltTolerance):\n",
    "    blnFound = False\n",
    "    counter =0\n",
    "    if arrGB1.GetAccumulativeLength(-1) <= arrGB2.GetAccumulativeLength(-1): \n",
    "        pts1 = arrGB1.GetPoints()\n",
    "        pts2 = arrGB2.GetPoints()\n",
    "    else:\n",
    "        pts1 = arrGB2.GetPoints()\n",
    "        pts2 = arrGB1.GetPoints()\n",
    "    while counter < len(pts1) and not(blnFound): \n",
    "        if (objProcess.PeriodicMinimumDistance(pts1[counter], pts2[0]) < fltTolerance) or (objProcess.PeriodicMinimumDistance(pts1[counter], pts2[-1]) < fltTolerance):\n",
    "            blnFound = True\n",
    "        else:\n",
    "            counter +=1\n",
    "    return blnFound\n",
    "CheckGB(objProcess.GetGrainBoundaries(1), objProcess.GetGrainBoundaries(3),0.5)          "
   ]
  },
  {
   "cell_type": "code",
   "execution_count": 11,
   "metadata": {},
   "outputs": [
    {
     "data": {
      "text/plain": [
       "array([[42.9403011 , 46.95502375, 51.61190789, 56.79481818, 62.3570247 ,\n",
       "        68.04743013, 73.40389531, 78.70974837, 84.03940262],\n",
       "       [ 0.        , 41.58100203, 46.45549912, 51.83313542, 57.51340567,\n",
       "        63.32436314, 68.82540609, 74.28178742, 79.72937279],\n",
       "       [ 0.        ,  0.        , 41.22097325, 46.85427364, 52.67140124,\n",
       "        58.62145636, 64.29478258, 69.92959679, 75.51139637],\n",
       "       [ 0.        ,  0.        ,  0.        , 41.85350854, 47.76350099,\n",
       "        53.81134123, 59.61676658, 65.391171  , 71.07415248],\n",
       "       [ 0.        ,  0.        ,  0.        ,  0.        , 43.61990175,\n",
       "        49.73546609, 55.64594161, 61.53366506, 67.29442314]])"
      ]
     },
     "execution_count": 11,
     "metadata": {},
     "output_type": "execute_result"
    }
   ],
   "source": [
    "arrMatrix = objProcess.MakePeriodicDistanceMatrix(objProcess.GetGrainBoundaries(0).GetPoints(),\n",
    "                                                      objProcess.GetGrainBoundaries(1).GetPoints())\n",
    "arrMatrix"
   ]
  },
  {
   "cell_type": "code",
   "execution_count": 4,
   "metadata": {},
   "outputs": [
    {
     "ename": "IndexError",
     "evalue": "tuple index out of range",
     "output_type": "error",
     "traceback": [
      "\u001b[0;31m---------------------------------------------------------------------------\u001b[0m",
      "\u001b[0;31mIndexError\u001b[0m                                Traceback (most recent call last)",
      "\u001b[0;32m<ipython-input-4-4e61da32449e>\u001b[0m in \u001b[0;36m<module>\u001b[0;34m\u001b[0m\n\u001b[1;32m     10\u001b[0m \u001b[0marrTriplePoints\u001b[0m \u001b[0;34m=\u001b[0m \u001b[0mobjProcess\u001b[0m\u001b[0;34m.\u001b[0m\u001b[0mFindTriplePoints\u001b[0m\u001b[0;34m(\u001b[0m\u001b[0ma1\u001b[0m\u001b[0;34m,\u001b[0m \u001b[0;36m2\u001b[0m\u001b[0;34m*\u001b[0m\u001b[0ma1\u001b[0m\u001b[0;34m)\u001b[0m\u001b[0;34m\u001b[0m\u001b[0;34m\u001b[0m\u001b[0m\n\u001b[1;32m     11\u001b[0m \u001b[0mlstOfVectors\u001b[0m \u001b[0;34m=\u001b[0m \u001b[0;34m[\u001b[0m\u001b[0;34m]\u001b[0m\u001b[0;34m\u001b[0m\u001b[0;34m\u001b[0m\u001b[0m\n\u001b[0;32m---> 12\u001b[0;31m \u001b[0mobjStructure\u001b[0m \u001b[0;34m=\u001b[0m \u001b[0mgl\u001b[0m\u001b[0;34m.\u001b[0m\u001b[0mDefectStructure\u001b[0m\u001b[0;34m(\u001b[0m\u001b[0mobjProcess\u001b[0m\u001b[0;34m.\u001b[0m\u001b[0mGetTripleLines\u001b[0m\u001b[0;34m(\u001b[0m\u001b[0;34m)\u001b[0m\u001b[0;34m,\u001b[0m \u001b[0mobjProcess\u001b[0m\u001b[0;34m.\u001b[0m\u001b[0mGetGrainBoundaries\u001b[0m\u001b[0;34m(\u001b[0m\u001b[0;34m)\u001b[0m\u001b[0;34m)\u001b[0m\u001b[0;34m\u001b[0m\u001b[0;34m\u001b[0m\u001b[0m\n\u001b[0m\u001b[1;32m     13\u001b[0m \u001b[0mlstNeighbourGB\u001b[0m \u001b[0;34m=\u001b[0m \u001b[0mobjStructure\u001b[0m\u001b[0;34m.\u001b[0m\u001b[0mGetNeighbouringGrainBoundaries\u001b[0m\u001b[0;34m(\u001b[0m\u001b[0mintCol\u001b[0m\u001b[0;34m)\u001b[0m\u001b[0;34m\u001b[0m\u001b[0;34m\u001b[0m\u001b[0m\n\u001b[1;32m     14\u001b[0m \u001b[0;32mfor\u001b[0m \u001b[0mintV\u001b[0m \u001b[0;32min\u001b[0m \u001b[0mrange\u001b[0m\u001b[0;34m(\u001b[0m\u001b[0;36m3\u001b[0m\u001b[0;34m)\u001b[0m\u001b[0;34m:\u001b[0m\u001b[0;34m\u001b[0m\u001b[0;34m\u001b[0m\u001b[0m\n",
      "\u001b[0;32m~/TripleLines/TripleLines.github.io/GeneralLattice.py\u001b[0m in \u001b[0;36m__init__\u001b[0;34m(self, arrTripleLines, arrGrainBoundaries)\u001b[0m\n\u001b[1;32m    388\u001b[0m         \u001b[0mlstOfGrainObjects\u001b[0m \u001b[0;34m=\u001b[0m \u001b[0;34m[\u001b[0m\u001b[0;34m]\u001b[0m\u001b[0;34m\u001b[0m\u001b[0;34m\u001b[0m\u001b[0m\n\u001b[1;32m    389\u001b[0m         \u001b[0;32mfor\u001b[0m \u001b[0mj\u001b[0m \u001b[0;32min\u001b[0m \u001b[0marrGrainBoundaries\u001b[0m\u001b[0;34m:\u001b[0m\u001b[0;34m\u001b[0m\u001b[0;34m\u001b[0m\u001b[0m\n\u001b[0;32m--> 390\u001b[0;31m             \u001b[0mlstOfGrainObjects\u001b[0m\u001b[0;34m.\u001b[0m\u001b[0mappend\u001b[0m\u001b[0;34m(\u001b[0m\u001b[0mGrainBoundary\u001b[0m\u001b[0;34m(\u001b[0m\u001b[0mj\u001b[0m\u001b[0;34m)\u001b[0m\u001b[0;34m)\u001b[0m\u001b[0;34m\u001b[0m\u001b[0;34m\u001b[0m\u001b[0m\n\u001b[0m\u001b[1;32m    391\u001b[0m         \u001b[0mself\u001b[0m\u001b[0;34m.\u001b[0m\u001b[0m__GrainBoundariesObjects\u001b[0m \u001b[0;34m=\u001b[0m \u001b[0mlstOfGrainObjects\u001b[0m\u001b[0;34m\u001b[0m\u001b[0;34m\u001b[0m\u001b[0m\n\u001b[1;32m    392\u001b[0m     \u001b[0;32mdef\u001b[0m \u001b[0mGetNeighbouringGrainBoundaries\u001b[0m\u001b[0;34m(\u001b[0m\u001b[0mself\u001b[0m\u001b[0;34m,\u001b[0m \u001b[0mintTripleLine\u001b[0m\u001b[0;34m:\u001b[0m \u001b[0mint\u001b[0m\u001b[0;34m)\u001b[0m\u001b[0;34m:\u001b[0m\u001b[0;34m\u001b[0m\u001b[0;34m\u001b[0m\u001b[0m\n",
      "\u001b[0;32m~/TripleLines/TripleLines.github.io/GeneralLattice.py\u001b[0m in \u001b[0;36m__init__\u001b[0;34m(self, arrPoints)\u001b[0m\n\u001b[1;32m    332\u001b[0m \u001b[0;32mclass\u001b[0m \u001b[0mGrainBoundary\u001b[0m\u001b[0;34m(\u001b[0m\u001b[0mobject\u001b[0m\u001b[0;34m)\u001b[0m\u001b[0;34m:\u001b[0m\u001b[0;34m\u001b[0m\u001b[0;34m\u001b[0m\u001b[0m\n\u001b[1;32m    333\u001b[0m     \u001b[0;32mdef\u001b[0m \u001b[0m__init__\u001b[0m\u001b[0;34m(\u001b[0m\u001b[0mself\u001b[0m\u001b[0;34m,\u001b[0m \u001b[0marrPoints\u001b[0m\u001b[0;34m:\u001b[0m \u001b[0mnp\u001b[0m\u001b[0;34m.\u001b[0m\u001b[0marray\u001b[0m\u001b[0;34m)\u001b[0m\u001b[0;34m:\u001b[0m\u001b[0;34m\u001b[0m\u001b[0;34m\u001b[0m\u001b[0m\n\u001b[0;32m--> 334\u001b[0;31m         \u001b[0mself\u001b[0m\u001b[0;34m.\u001b[0m\u001b[0m__Points\u001b[0m \u001b[0;34m=\u001b[0m \u001b[0mgf\u001b[0m\u001b[0;34m.\u001b[0m\u001b[0mSortInDistanceOrder\u001b[0m\u001b[0;34m(\u001b[0m\u001b[0marrPoints\u001b[0m\u001b[0;34m)\u001b[0m\u001b[0;34m[\u001b[0m\u001b[0;36m0\u001b[0m\u001b[0;34m]\u001b[0m\u001b[0;34m\u001b[0m\u001b[0;34m\u001b[0m\u001b[0m\n\u001b[0m\u001b[1;32m    335\u001b[0m         \u001b[0mself\u001b[0m\u001b[0;34m.\u001b[0m\u001b[0mFindGrainBoundaryLength\u001b[0m\u001b[0;34m(\u001b[0m\u001b[0;34m)\u001b[0m\u001b[0;34m\u001b[0m\u001b[0;34m\u001b[0m\u001b[0m\n\u001b[1;32m    336\u001b[0m         \u001b[0mself\u001b[0m\u001b[0;34m.\u001b[0m\u001b[0m__Centre\u001b[0m \u001b[0;34m=\u001b[0m \u001b[0mnp\u001b[0m\u001b[0;34m.\u001b[0m\u001b[0mmean\u001b[0m\u001b[0;34m(\u001b[0m\u001b[0mself\u001b[0m\u001b[0;34m.\u001b[0m\u001b[0m__Points\u001b[0m\u001b[0;34m,\u001b[0m \u001b[0maxis\u001b[0m \u001b[0;34m=\u001b[0m \u001b[0;36m0\u001b[0m\u001b[0;34m)\u001b[0m\u001b[0;34m\u001b[0m\u001b[0;34m\u001b[0m\u001b[0m\n",
      "\u001b[0;32m~/TripleLines/TripleLines.github.io/GeometryFunctions.py\u001b[0m in \u001b[0;36mSortInDistanceOrder\u001b[0;34m(inArray)\u001b[0m\n\u001b[1;32m    197\u001b[0m         \u001b[0;32mreturn\u001b[0m \u001b[0ma\u001b[0m\u001b[0;34m*\u001b[0m\u001b[0mr\u001b[0m \u001b[0;34m-\u001b[0m \u001b[0mb\u001b[0m\u001b[0;34m*\u001b[0m\u001b[0mnp\u001b[0m\u001b[0;34m.\u001b[0m\u001b[0mlog\u001b[0m\u001b[0;34m(\u001b[0m\u001b[0mr\u001b[0m\u001b[0;34m+\u001b[0m\u001b[0mb\u001b[0m\u001b[0;34m/\u001b[0m\u001b[0ma\u001b[0m\u001b[0;34m)\u001b[0m \u001b[0;34m+\u001b[0m \u001b[0mb\u001b[0m\u001b[0;34m*\u001b[0m\u001b[0mnp\u001b[0m\u001b[0;34m.\u001b[0m\u001b[0mlog\u001b[0m\u001b[0;34m(\u001b[0m\u001b[0mb\u001b[0m\u001b[0;34m/\u001b[0m\u001b[0ma\u001b[0m\u001b[0;34m)\u001b[0m\u001b[0;34m\u001b[0m\u001b[0;34m\u001b[0m\u001b[0m\n\u001b[1;32m    198\u001b[0m \u001b[0;32mdef\u001b[0m \u001b[0mSortInDistanceOrder\u001b[0m\u001b[0;34m(\u001b[0m\u001b[0minArray\u001b[0m\u001b[0;34m:\u001b[0m \u001b[0mnp\u001b[0m\u001b[0;34m.\u001b[0m\u001b[0marray\u001b[0m\u001b[0;34m)\u001b[0m\u001b[0;34m->\u001b[0m\u001b[0mnp\u001b[0m\u001b[0;34m.\u001b[0m\u001b[0marray\u001b[0m\u001b[0;34m:\u001b[0m\u001b[0;34m\u001b[0m\u001b[0;34m\u001b[0m\u001b[0m\n\u001b[0;32m--> 199\u001b[0;31m         \u001b[0mintLength\u001b[0m \u001b[0;34m=\u001b[0m \u001b[0mnp\u001b[0m\u001b[0;34m.\u001b[0m\u001b[0mshape\u001b[0m\u001b[0;34m(\u001b[0m\u001b[0minArray\u001b[0m\u001b[0;34m)\u001b[0m\u001b[0;34m[\u001b[0m\u001b[0;36m0\u001b[0m\u001b[0;34m]\u001b[0m\u001b[0;34m\u001b[0m\u001b[0;34m\u001b[0m\u001b[0m\n\u001b[0m\u001b[1;32m    200\u001b[0m         \u001b[0msetIndices\u001b[0m \u001b[0;34m=\u001b[0m\u001b[0mset\u001b[0m\u001b[0;34m(\u001b[0m\u001b[0;34m)\u001b[0m\u001b[0;34m\u001b[0m\u001b[0;34m\u001b[0m\u001b[0m\n\u001b[1;32m    201\u001b[0m         \u001b[0;32mif\u001b[0m \u001b[0mintLength\u001b[0m \u001b[0;34m>\u001b[0m \u001b[0;36m1\u001b[0m\u001b[0;34m:\u001b[0m\u001b[0;34m\u001b[0m\u001b[0;34m\u001b[0m\u001b[0m\n",
      "\u001b[0;31mIndexError\u001b[0m: tuple index out of range"
     ]
    }
   ],
   "source": [
    "strDumpFile = '../../PythonLAMMPS/VolumeTest/dump.eam'\n",
    "#strDumpFile = '../data/dump.eam'\n",
    "strPMFile = strDumpFile + 'PM'\n",
    "objData = LD.LAMMPSData(strPMFile,1)\n",
    "objProcess = objData.GetTimeStepByIndex(-1)\n",
    "objProcess.CategoriseAtoms()\n",
    "intCol = 7\n",
    "a1=4.05\n",
    "h= 2*a1*np.sqrt(3)\n",
    "arrTriplePoints = objProcess.FindTriplePoints(a1, 2*a1)\n",
    "lstOfVectors = []\n",
    "objStructure = gl.DefectStructure(objProcess.GetTripleLines(), objProcess.GetGrainBoundaries())\n",
    "lstNeighbourGB = objStructure.GetNeighbouringGrainBoundaries(intCol)\n",
    "for intV in range(3):\n",
    "    lstOfVectors.append(objStructure.GetGrainBoundaryDirection(lstNeighbourGB[intV],intCol))\n",
    "lstValues = []\n",
    "lstExcess =[]\n",
    "lstFitExcess = []\n",
    "lstFitQuadratic = []\n",
    "lstTotalPE = []\n",
    "lstBoxExcess = []\n",
    "lstFitMeanPE = []\n",
    "intPE = objProcess.GetColumnNames().index('c_pe1')\n",
    "intVS = objProcess.GetColumnNames().index('VolumetricStrain')\n",
    "fltVolume = np.mean(objProcess.GetLatticeAtoms()[:,intVS])\n",
    "arrDistance = sc.spatial.distance_matrix(arrTriplePoints[:,0:2],arrTriplePoints[:,0:2])\n",
    "fltClosest = np.sort(arrDistance[intCol])[1]\n",
    "#fltClosest = 400\n",
    "fltIncrement = 4.05/4\n",
    "lstMeanPE = []\n",
    "lstBoxIndices = []\n",
    "A =np.median(objProcess.GetLatticeAtoms()[:,intPE])*4*4.05**(-3)*h*np.pi/(1+fltVolume)\n",
    "fltMeanLatticePE = np.median(objProcess.FindValuesInCylinder(objProcess.GetLatticeAtoms()[:,0:4],\n",
    "                                                           arrTriplePoints[intCol],fltClosest/2,h,intPE))\n",
    "arrCurrentTripleLine = objProcess.MoveToSimulationCell(arrTriplePoints[intCol])\n",
    "lstBoxAtoms = []\n",
    "for j in range(1,np.floor(fltClosest/(2*fltIncrement)).astype('int')):\n",
    "    r = fltIncrement*j\n",
    "    lstValues.append(r)\n",
    "    for kVector in range(len(lstOfVectors)):\n",
    "        v = gf.NormaliseVector(lstOfVectors[np.mod(kVector,3)] + lstOfVectors[np.mod(kVector+1,3)])\n",
    "        lstBoxIndices.extend(objProcess.FindBoxAtoms(objProcess.GetAtomData()[:,0:4],\n",
    "                                                           arrCurrentTripleLine,r*v, \n",
    "                                                           a1*np.cross(v,np.array([0,0,1])),np.array([0,0,h])))\n",
    "    lstBoxIndices = list(np.unique(lstBoxIndices))\n",
    "    boxValues = objProcess.GetAtomsByID(lstBoxIndices)[:,intPE]\n",
    "    #boxValues = objProcess.FindValuesInBox(objProcess.GetAtomData()[:,0:4],\n",
    "    #                                                       arrCurrentTripleLine,r*v, \n",
    "    #                                                       a1*np.cross(v,np.array([0,0,1])),np.array([0,0,h]),intPE)\n",
    "    values = objProcess.FindValuesInCylinder(objProcess.GetAtomData()[:,0:4], arrCurrentTripleLine, r,h,intPE)\n",
    "    lstBoxAtoms.append(np.sum(boxValues))\n",
    "    lstTotalPE.append(np.sum(values))\n",
    "    lstExcess.append(np.sum(values) +(lstBoxAtoms[-1]/len(lstBoxAtoms)-3.36)*len(values))\n",
    "popt, popv = sc.optimize.curve_fit(Quadratic, lstValues,lstTotalPE)\n",
    "popt2, popv2 = sc.optimize.curve_fit(FitExcess,lstValues, lstExcess)\n",
    "popt3, popv3 = sc.optimize.curve_fit(LinearRule,lstValues, lstBoxAtoms)\n",
    "for k, rValue in enumerate(lstValues):\n",
    "    lstFitQuadratic.append(Quadratic(rValue, *popt))\n",
    "    lstFitExcess.append(FitExcess(rValue, *popt2))\n",
    "    lstBoxExcess.append(LinearRule(rValue, *popt3))\n",
    "#print(popt,popt2, A)\n",
    "plt.scatter(lstValues, lstTotalPE)\n",
    "plt.plot(lstValues, lstFitQuadratic, c='r')\n",
    "plt.show()\n",
    "plt.scatter(lstValues, lstBoxAtoms)\n",
    "plt.plot(lstValues, lstBoxExcess)\n",
    "plt.show()\n",
    "plt.scatter(lstValues,lstExcess)\n",
    "plt.show()"
   ]
  },
  {
   "cell_type": "code",
   "execution_count": null,
   "metadata": {},
   "outputs": [],
   "source": [
    "intID = 1\n",
    "lstIDS = objProcess.FindCylindricalAtoms(objProcess.GetOtherAtoms()[:,0:4],arrTriplePoints[intID],2*a1,h)\n",
    "pts = objProcess.GetAtomsByID(lstIDS,0)[:,1:3]\n",
    "pts = objProcess.PeriodicShiftCloser()\n",
    "mpts = np.mean(pts,axis=0)\n",
    "plt.axis('equal')\n",
    "plt.scatter(pts[:,0], pts[:,1], c='g')\n",
    "plt.scatter(arrTriplePoints[intID,0],arrTriplePoints[intID,1],c='r')\n",
    "plt.scatter(mpts[0],mpts[1], c='b')\n",
    "\n"
   ]
  },
  {
   "cell_type": "code",
   "execution_count": null,
   "metadata": {},
   "outputs": [],
   "source": [
    "lstFitFunction = []\n",
    "lstTJ = []\n",
    "lstGBFit = []\n",
    "for j,val in enumerate(lstValues):\n",
    "    lstTJ.append(lstExcess[j] - popt2[1]*lstValues[j])\n",
    "plt.scatter(lstValues, lstExcess, c='r')\n",
    "plt.scatter(lstValues, lstFitExcess, c='y')\n",
    "plt.scatter(lstValues, lstTJ, c='b')\n",
    "plt.show()\n"
   ]
  },
  {
   "cell_type": "code",
   "execution_count": null,
   "metadata": {},
   "outputs": [],
   "source": [
    "\n",
    "v"
   ]
  },
  {
   "cell_type": "code",
   "execution_count": null,
   "metadata": {},
   "outputs": [],
   "source": [
    "if np.mod(len(lstTJ),2) ==0:\n",
    "    lstTJ = lstTJ[:-1]\n",
    "    fltLastValue = lstValues[-2]\n",
    "else:\n",
    "    fltLastValue = lstValues[-1]\n",
    "arrfft = np.fft.fft(lstTJ)\n",
    "arrAmplitude = np.abs(arrfft)\n",
    "arrFrequency = np.fft.fftfreq(len(arrfft),fltIncrement)\n",
    "plt.scatter(arrFrequency, arrAmplitude)\n",
    "plt.plot(arrFrequency, arrAmplitude)\n",
    "intMax = np.argmax(arrAmplitude)\n",
    "intPeriod = (1/arrFrequency[intMax]).astype('int')\n",
    "print(np.mean(lstTJ[-intPeriod:]))"
   ]
  },
  {
   "cell_type": "code",
   "execution_count": null,
   "metadata": {},
   "outputs": [],
   "source": [
    "# plt.scatter(lstValues, lstGBExcess)\n",
    "# plt.show()\n",
    "# arrfft2 = np.fft.fft(lstGBExcess)\n",
    "# arrAmplitude2 = np.abs(arrfft2)\n",
    "# arrFrequency2 = np.fft.fftfreq(len(arrfft2),fltIncrement)\n",
    "# plt.scatter(arrFrequency2, arrAmplitude2)\n",
    "# plt.plot(arrFrequency2, arrAmplitude2)\n"
   ]
  },
  {
   "cell_type": "code",
   "execution_count": null,
   "metadata": {},
   "outputs": [],
   "source": [
    "print(objProcess.MoveToSimulationCell(arrTriplePoints), objProcess.MergePeriodicTripleLines(a1))\n",
    "\n",
    "print(np.min(objProcess.GetAtomData()[:,intPE]),np.max(objProcess.GetAtomData()[:,intPE]))"
   ]
  },
  {
   "cell_type": "code",
   "execution_count": null,
   "metadata": {},
   "outputs": [],
   "source": [
    "def PotentialEnergyInVolume(arrTriplePoint: np.array, fltRadius:float, fltHeight :float)->float:\n",
    "    arrTriplePoints = objProcess.PeriodicEquivalents(arrTriplePoint)\n",
    "    lstPoints = []\n",
    "    for j in arrTriplePoints:\n",
    "        lstPoints.extend(np.where(np.linalg.norm(objProcess.GetAtomData()[:,1:3]-j[0:2],axis=1) \n",
    "                         <fltRadius)[0])\n",
    "    lstPoints = list(np.unique(lstPoints))\n",
    "    return (np.sum(objProcess.GetAtomData()[lstPoints][:,7])/CylinderVolume(fltHeight,fltRadius)) "
   ]
  },
  {
   "cell_type": "code",
   "execution_count": null,
   "metadata": {},
   "outputs": [],
   "source": [
    "def PotentialEnergyPerAtom(arrTriplePoint: np.array, fltRadius:float, fltHeight :float)->float:\n",
    "    arrTriplePoints = objProcess.PeriodicEquivalents(arrTriplePoint)\n",
    "    lstPoints = []\n",
    "    for j in arrTriplePoints:\n",
    "        lstPoints.extend(np.where(np.linalg.norm(objProcess.GetAtomData()[:,1:3]-j[0:2],axis=1) \n",
    "                         <fltRadius)[0])\n",
    "    lstPoints = list(np.unique(lstPoints))\n",
    "    return (np.sum(objProcess.GetAtomData()[lstPoints][:,7])/len(lstPoints)) "
   ]
  },
  {
   "cell_type": "code",
   "execution_count": null,
   "metadata": {},
   "outputs": [],
   "source": [
    "def FormPotentialListVolume(intLength: int, flta: float, flth: float, arrPoint: np.array)->list:\n",
    "    Radii = np.linspace(flta/(np.sqrt(2)),0.5*intLength*flta/(np.sqrt(2)),intLength)\n",
    "    lstPotentialValues = []\n",
    "    for r in Radii:\n",
    "        lstPotentialValues.append(PotentialEnergyInVolume(arrPoint, r,flth))\n",
    "    return Radii,lstPotentialValues"
   ]
  },
  {
   "cell_type": "code",
   "execution_count": null,
   "metadata": {},
   "outputs": [],
   "source": [
    "def FormPotentialListAtom(intLength: int, flta: float, flth: float, arrPoint: np.array)->list:\n",
    "    Radii = np.linspace(flta/(np.sqrt(2)),0.5*intLength*flta/(np.sqrt(2)),intLength)\n",
    "    lstPotentialValues = []\n",
    "    for r in Radii:\n",
    "        lstPotentialValues.append(PotentialEnergyPerAtom(arrPoint, r,flth))\n",
    "    return Radii,lstPotentialValues"
   ]
  },
  {
   "cell_type": "code",
   "execution_count": null,
   "metadata": {},
   "outputs": [],
   "source": [
    "fig,axs = plt.subplots(len(arrTriplePoints),2, figsize = (15,50))\n",
    "fig.subplots_adjust(hspace =1)\n",
    "axs= axs.ravel()\n",
    "for pos,j in enumerate(arrTriplePoints):\n",
    "    axs[2*pos].scatter(*FormPotentialListVolume(25, a1, 2*a1, j))\n",
    "    axs[2*pos+1].scatter(*FormPotentialListAtom(25, a1, 2*a1, j))\n",
    "    axs[2*pos].set_title('Triple line mean position is '+ str(np.round(j)))\n",
    "    axs[2*pos+1].set_title('Triple line mean position is '+ str(np.round(j)))\n",
    "    axs[2*pos].set_ylabel('Potential Energy per Unit Volume in eV per $\\AA^3$' )\n",
    "    axs[2*pos].set_xlabel('Radial distance from triple line axis in $\\AA$')\n",
    "    axs[2*pos+1].set_ylabel('Potential Energy per atom in $eV$' )\n",
    "    axs[2*pos+1].set_xlabel('Radial distance from triple line axis in $\\AA$')"
   ]
  },
  {
   "cell_type": "code",
   "execution_count": null,
   "metadata": {},
   "outputs": [],
   "source": [
    "-3.36*4/(4.05**3) #FCC cell has 4 atoms in a perfect lattice each atom is approx -3.36 eV \n",
    "len(arrTriplePoints)"
   ]
  },
  {
   "cell_type": "code",
   "execution_count": null,
   "metadata": {},
   "outputs": [],
   "source": [
    "arrTriplePoints = objProcess.FindTriplePoints(4.05,4.05, True)\n",
    "arrGrainBoundaries = objProcess.GetGrainBoundaries()\n",
    "print(arrTriplePoints)"
   ]
  },
  {
   "cell_type": "code",
   "execution_count": null,
   "metadata": {},
   "outputs": [],
   "source": [
    "def GetGrainBoundarySegments(objGB, fltWidth: float):\n",
    "    #arrPoints = gf.SortInDistanceOrder(arr2DPoints[:,0:2])[0]\n",
    "    lstPositions =[]\n",
    "    lstTotalPE = []\n",
    "    lstTotalPositions = []\n",
    "    for j in range(0,objGB.GetNumberOfPoints()-1):\n",
    "        arrVector = objGB.GetVector(j)\n",
    "        arrAcross = fltWidth*objGB.GetAcrossVector(j)\n",
    "        arrCentre3d = objGB.GetCentre(j) \n",
    "        arrCentre3d[2] = 4.05\n",
    "        lstPositions = objProcess.FindBoxAtoms(arrCentre3d[0:2],arrVector[0:2],arrAcross[0:2])\n",
    "      #  lstPositions = objProcess.FindCylindricalAtoms(np.array([arrPoints[j][0],arrPoints[j][1],0]), fltWidth)\n",
    "        lstPositions = list(np.unique(lstPositions))\n",
    "        lstTotalPE.append(np.sum(objProcess.GetRows(lstPositions)[:,intPE]))\n",
    "        lstTotalPositions.extend(objProcess.GetRows(lstPositions)[:,1:3])\n",
    "    lstTotalPositions = np.array(lstTotalPositions)\n",
    "    return lstTotalPE, lstTotalPositions"
   ]
  },
  {
   "cell_type": "code",
   "execution_count": null,
   "metadata": {},
   "outputs": [],
   "source": [
    "arrGrainBoundaries = objProcess.GetGrainBoundaries()\n",
    "fig,axs = plt.subplots(len(arrGrainBoundaries),2, figsize = (15,50))\n",
    "fig.subplots_adjust(hspace =1)\n",
    "axs= axs.ravel()\n",
    "lstPE = []\n",
    "lstPositions = []\n",
    "fltWidth= 4*a1\n",
    "for j in range(len(arrGrainBoundaries)):\n",
    "    if len(arrGrainBoundaries[j]) > 2: \n",
    "        lstLengths = []\n",
    "        objGB = gl.GrainBoundary(arrGrainBoundaries[j])\n",
    "        \n",
    "        lstPE, lstPositions = GetGrainBoundarySegments(objGB, fltWidth)\n",
    "        for k in range(len(lstPE)):\n",
    "            lstLengths.append(objGB.GetAccumulativeLength(k))\n",
    "            lstPE[k] = lstPE[k]/(objGB.GetSegmentLength(k)*fltWidth*h)\n",
    "        axs[2*j].set(xlim=(0, objProcess.GetCellVectors()[0][0]+objProcess.GetCellVectors()[1][0]),\n",
    "                     ylim = (0,objProcess.GetCellVectors()[1][1]))\n",
    "        axs[2*j].axis('equal')\n",
    "        axs[2*j].scatter(lstPositions[:,0],lstPositions[:,1])\n",
    "        axs[2*j].scatter(objGB.GetPoints()[:,0],objGB.GetPoints()[:,1])\n",
    "        axs[2*j+1].scatter(lstLengths,lstPE)\n",
    "        axs[2*j].set_title('Atomic Positions for Grain Boundary '+ str(np.round(j)))\n",
    "        axs[2*j+1].set_title('Potential Energy in $eV$ for Grain Boundary '+ str(np.round(j)))\n",
    "        axs[2*j].set_ylabel('Position in $\\AA$' )\n",
    "        axs[2*j].set_xlabel('Position in $\\AA$')\n",
    "        axs[2*j+1].set_ylabel('Potential Energy per atom in eV$' )\n",
    "        axs[2*j+1].set_xlabel('Approximate Position Number on Grain Boundary')"
   ]
  },
  {
   "cell_type": "code",
   "execution_count": null,
   "metadata": {},
   "outputs": [],
   "source": []
  },
  {
   "cell_type": "code",
   "execution_count": null,
   "metadata": {},
   "outputs": [],
   "source": []
  },
  {
   "cell_type": "code",
   "execution_count": null,
   "metadata": {},
   "outputs": [],
   "source": []
  },
  {
   "cell_type": "code",
   "execution_count": null,
   "metadata": {},
   "outputs": [],
   "source": [
    "\n"
   ]
  },
  {
   "cell_type": "code",
   "execution_count": null,
   "metadata": {},
   "outputs": [],
   "source": [
    "fig,axs = plt.subplots(len(arrGrainBoundaries),1, figsize = (15,50))\n",
    "fig.subplots_adjust(hspace =1)\n",
    "axs= axs.ravel()\n",
    "for j in range(len(arrGrainBoundaries)):\n",
    "    if len(arrGrainBoundaries[j]) > 1:\n",
    "        objGB2 = gl.GrainBoundary(arrGrainBoundaries[j])\n",
    "        lstPE = []\n",
    "        lstWidth =[]\n",
    "        for k in range(2,12):\n",
    "            lstPE.append(np.mean(GetGrainBoundarySegments(objGB2, k*a1/4)[0]))\n",
    "            lstWidth.append(k*a1/2) \n",
    "            \n",
    "        axs[j].scatter(lstWidth,lstPE)\n",
    "        axs[j].set_title('PE per Atom Against Cuboid Width '+ str(np.round(j)))\n",
    "        axs[j].set_ylabel('PE per Atom in $eV$$' )\n",
    "        axs[j].set_xlabel('Cuboid Width in $\\AA$')\n",
    "            "
   ]
  },
  {
   "cell_type": "code",
   "execution_count": null,
   "metadata": {},
   "outputs": [],
   "source": [
    "def TurningRegion(arrPoints, arrAcross1,arrAcross2, fltWidth)->list:\n",
    "    lstIndices = []\n",
    "    arrUnit1 = gf.NormaliseVector(arrAcross1[0:2])\n",
    "    arrUnit2 = gf.NormaliseVector(arrAcross2[0:2])\n",
    "    fltDirection = np.sign(np.cross(arrAcross1, arrAcross2)[2])\n",
    "    if fltDirection < 0: \n",
    "        lstIndices.extend(np.where((np.dot(arrPoints,arrUnit1) > 0) & (np.dot(arrPoints,arrUnit1) < fltWidth)\n",
    "                             & (np.dot(arrPoints,arrUnit2) > 0) & (np.dot(arrPoints,arrUnit2) < fltWidth))[0])\n",
    "    elif fltDirection > 0:\n",
    "        lstIndices.extend(np.where((np.dot(arrPoints,arrUnit1) < 0) & (np.dot(arrPoints,arrUnit1) > -fltWidth)\n",
    "                                  & (np.dot(arrPoints,arrUnit2) < 0) & (np.dot(arrPoints,arrUnit2) > -fltWidth))[0])\n",
    "    return list(lstIndices)"
   ]
  },
  {
   "cell_type": "code",
   "execution_count": null,
   "metadata": {},
   "outputs": [],
   "source": [
    "objGB1 = gl.GrainBoundary(arrGrainBoundaries[5])\n",
    "lstPoints = TurningRegion(objProcess.GetAtomData()[:,1:3]-objGB1.GetPoints(6)[0:2], objGB1.GetVector(0), \n",
    "              objGB1.GetVector(8), 1)\n",
    "plt.scatter(objProcess.GetRows(lstPoints)[:,1],objProcess.GetRows(lstPoints)[:,2]);"
   ]
  },
  {
   "cell_type": "code",
   "execution_count": null,
   "metadata": {},
   "outputs": [],
   "source": [
    "np.where(np.dot(objProcess.GetAtomData()[:,1:3]-objGB1.GetPoints(1)[0:2],\n",
    "                gf.NormaliseVector(objGB1.GetVector(1))[0:2])<0)"
   ]
  },
  {
   "cell_type": "code",
   "execution_count": null,
   "metadata": {},
   "outputs": [],
   "source": []
  },
  {
   "cell_type": "code",
   "execution_count": null,
   "metadata": {},
   "outputs": [],
   "source": [
    "objGB1.GetVector(5)"
   ]
  },
  {
   "cell_type": "code",
   "execution_count": null,
   "metadata": {},
   "outputs": [],
   "source": [
    "def GetGrainBoundary(objGB, fltWidth: float):\n",
    "    #arrPoints = gf.SortInDistanceOrder(arr2DPoints[:,0:2])[0]\n",
    "    lstPositions =[]\n",
    "    lstTotalPE = []\n",
    "    lstTotalPositions = []\n",
    "    lstArcs = []\n",
    "    arrFirstCentre = objGB.GetCentre(0)\n",
    "    lstArcs.extend(gf.ArcSegment(objProcess.GetAtomData()[:,1:3]-arrFirstCentre[0:2],\n",
    "                           objGB.GetAcrossVector(0)[0:2], -objGB.GetAcrossVector(0)[0:2], fltWidth))\n",
    "    lstArcs.extend(gf.ArcSegment(objProcess.GetAtomData()[:,1:3]-arrFirstCentre[0:2],\n",
    "                           objGB.GetAcrossVector(-1)[0:2], -objGB.GetAcrossVector(-1)[0:2], fltWidth))\n",
    "    for j in range(0,objGB.GetNumberOfPoints()-1):\n",
    "        arrVector = objGB.GetVector(j)\n",
    "        arrAcross = fltWidth*objGB.GetAcrossVector(j)\n",
    "        arrCentre3d = objGB.GetCentre(j) \n",
    "        arrCentre3d[2] = 4.05\n",
    "        lstPositions.extend(objProcess.FindBoxAtoms(arrCentre3d[0:2],arrVector[0:2],arrAcross[0:2]))\n",
    "        if j > 1:\n",
    "            lstPositions.extend(gf.ArcSegment(objProcess.GetAtomData()[:,1:3]-arrCentre3d[0:2],\n",
    "                           objGB.GetAcrossVector(j)[0:2], objGB.GetAcrossVector(j-1)[0:2], fltWidth))\n",
    "            lstPositions.extend(gf.ArcSegment(objProcess.GetAtomData()[:,1:3]-arrCentre3d[0:2],\n",
    "                           -objGB.GetAcrossVector(j)[0:2], -objGB.GetAcrossVector(j-1)[0:2], fltWidth))\n",
    "      #  lstPositions = objProcess.FindCylindricalAtoms(np.array([arrPoints[j][0],arrPoints[j][1],0]), fltWidth)\n",
    "        lstPositions = set(np.unique(lstPositions))\n",
    "        lstPositions.difference(lstArcs)\n",
    "        lstPositions = list(lstPositions)\n",
    "        lstTotalPE.append(np.sum(objProcess.GetRows(lstPositions)[:,intPE]))\n",
    "        lstTotalPositions.extend(objProcess.GetRows(lstPositions)[:,1:3])\n",
    "    lstTotalPositions = np.array(lstTotalPositions)\n",
    "    return lstTotalPE, lstTotalPositions"
   ]
  },
  {
   "cell_type": "code",
   "execution_count": null,
   "metadata": {},
   "outputs": [],
   "source": [
    "GetGrainBoundary(objGB2,5)"
   ]
  },
  {
   "cell_type": "code",
   "execution_count": null,
   "metadata": {},
   "outputs": [],
   "source": [
    "objGB2.GetAcrossVector(1)"
   ]
  },
  {
   "cell_type": "code",
   "execution_count": null,
   "metadata": {},
   "outputs": [],
   "source": [
    "arrGrainBoundaries = objProcess.GetGrainBoundaries()\n",
    "fig,axs = plt.subplots(len(arrGrainBoundaries),2, figsize = (15,50))\n",
    "fig.subplots_adjust(hspace =1)\n",
    "axs= axs.ravel()\n",
    "lstPE = []\n",
    "lstPositions = []\n",
    "fltWidth= 2*a1\n",
    "for j in range(len(arrGrainBoundaries)):\n",
    "    if len(arrGrainBoundaries[j]) > 2: \n",
    "        lstLengths = []\n",
    "        objGB = gl.GrainBoundary(arrGrainBoundaries[j])\n",
    "        \n",
    "        lstPE, lstPositions = GetGrainBoundary(objGB, fltWidth)\n",
    "        for k in range(len(lstPE)):\n",
    "            lstLengths.append(objGB.GetAccumulativeLength(k))\n",
    "            lstPE[k] = lstPE[k]/(objGB.GetSegmentLength(k)*fltWidth*h)\n",
    "        axs[2*j].set(xlim=(0, objProcess.GetCellVectors()[0][0]+objProcess.GetCellVectors()[1][0]),\n",
    "                     ylim = (0,objProcess.GetCellVectors()[1][1]))\n",
    "        axs[2*j].axis('equal')\n",
    "        axs[2*j].scatter(lstPositions[:,0],lstPositions[:,1])\n",
    "        axs[2*j].scatter(objGB.GetPoints()[:,0],objGB.GetPoints()[:,1])\n",
    "        axs[2*j+1].scatter(lstLengths,lstPE)\n",
    "        axs[2*j].set_title('Atomic Positions for Grain Boundary '+ str(np.round(j)))\n",
    "        axs[2*j+1].set_title('Potential Energy in $eV$ for Grain Boundary '+ str(np.round(j)))\n",
    "        axs[2*j].set_ylabel('Position in $\\AA$' )\n",
    "        axs[2*j].set_xlabel('Position in $\\AA$')\n",
    "        axs[2*j+1].set_ylabel('Potential Energy per atom in eV$' )\n",
    "        axs[2*j+1].set_xlabel('Approximate Position Number on Grain Boundary')"
   ]
  },
  {
   "cell_type": "code",
   "execution_count": null,
   "metadata": {},
   "outputs": [],
   "source": [
    "fig = plt.figure()\n",
    "ax = fig.gca(projection='3d')\n",
    "lstP = gf.CylindricalVolume(objProcess.GetAtomData()[:,1:4], arrTriplePoints[10], 15, objProcess.CellHeight)\n",
    "ax.scatter(objProcess.GetRows(lstP)[:,1], objProcess.GetRows(lstP)[:,2],objProcess.GetRows(lstP)[:,3])"
   ]
  },
  {
   "cell_type": "code",
   "execution_count": null,
   "metadata": {},
   "outputs": [],
   "source": [
    "objProcess.FindNonGrainMean(np.array([0,0,0]), 8)\n"
   ]
  },
  {
   "cell_type": "code",
   "execution_count": null,
   "metadata": {},
   "outputs": [],
   "source": [
    "CellArray = plt.imread('../../PythonLAMMPS/VolumeTest/CellView.png')\n",
    "CellArray = np.flip(CellArray, axis=0)\n",
    "plt.matshow(CellArray[:,:,:], origin = 'lower')"
   ]
  },
  {
   "cell_type": "code",
   "execution_count": null,
   "metadata": {},
   "outputs": [],
   "source": [
    "def ConvertToImage(vctImageAcross: np.array, vctImageDiagonal: np.array, \n",
    "                   arrPoints: np.array, arrMatrix: np.array)->np.array:\n",
    "    arrNewPoints = np.matmul(arrPoints, arrMatrix)\n",
    "    arrNewPoints = np.mod(arrNewPoints, np.ones(3))\n",
    "    arrReturn2DPoints = np.zeros([len(arrNewPoints),2])\n",
    "    for j, point in enumerate(arrNewPoints):\n",
    "        arrReturn2DPoints[j] = point[0]*vctImageAcross + point[1]*vctDiagonal\n",
    "    "
   ]
  },
  {
   "cell_type": "code",
   "execution_count": null,
   "metadata": {},
   "outputs": [],
   "source": [
    "n = 5\n",
    "intUp, intAcross = np.shape(CellArray)[0:2]\n",
    "#arrTriplePoints = objProcess.MoveToSimulationCell(arrTriplePoints)\n",
    "NewTriplePoints = np.matmul(arrTriplePoints, objProcess.GetBasisConversions())\n",
    "NewTriplePoints = np.mod(NewTriplePoints, np.ones(3))\n",
    "fltBase = intUp/np.tan(np.pi/3)\n",
    "vctAcross = np.array([intAcross-fltBase, 0])\n",
    "vctDiagonal = np.array([fltBase, intUp])\n",
    "for j in NewTriplePoints:\n",
    "    arrCurrentPoint = j[0]*vctAcross + j[1]*vctDiagonal\n",
    "    #arrCurrentPoint[0] = j[0]/np.linalg.norm(objProcess.GetCellVectors()[0])*intDown\n",
    "    #arrCurrentPoint[1] = (1-j[1]/np.linalg.norm(objProcess.GetCellVectors()[1]))*intDown\n",
    "    CellArray[arrCurrentPoint[1].astype('int')-n:arrCurrentPoint[1].astype('int')+n, \n",
    "              arrCurrentPoint[0].astype('int')-n:arrCurrentPoint[0].astype('int')+n,0] =1\n",
    "plt.matshow(CellArray, origin = 'lower')"
   ]
  },
  {
   "cell_type": "code",
   "execution_count": null,
   "metadata": {},
   "outputs": [],
   "source": [
    "arrPoint = objProcess.GetTripleLines()[8]\n",
    "lstIndices = gf.CylindricalVolume(objProcess.GetLatticeAtoms()[:,1:4], arrPoint,2*a1, h )\n",
    "#lstIndices = objProcess.FindCylindricalAtoms(objProcess.GetOtherAtoms()[:1:4], arrPoint, 2*a1,h)\n",
    "arrCylinder = objProcess.GetLatticeAtoms()[lstIndices, 1:4]\n",
    "print(arrPoint)"
   ]
  },
  {
   "cell_type": "code",
   "execution_count": null,
   "metadata": {},
   "outputs": [],
   "source": [
    "plt.scatter(arrCylinder[:,0],arrCylinder[:,1])\n"
   ]
  },
  {
   "cell_type": "code",
   "execution_count": null,
   "metadata": {},
   "outputs": [],
   "source": [
    "print(arrPoint, np.mean(arrCylinder, axis=0), len(arrCylinder))\n"
   ]
  },
  {
   "cell_type": "code",
   "execution_count": null,
   "metadata": {},
   "outputs": [],
   "source": [
    "objProcess.GetNumberOfLatticeAtoms()\n"
   ]
  },
  {
   "cell_type": "code",
   "execution_count": null,
   "metadata": {},
   "outputs": [],
   "source": [
    "for j in range(1,21):\n",
    "    fltIncrements = 10\n",
    "    fltSymmetry = 60 \n",
    "    fltAngle1, fltAngle2 = np.divmod((j-1)*fltIncrements, fltSymmetry-2*fltIncrements)\n",
    "    fltAngle1 = fltAngle1*fltIncrements+fltIncrements \n",
    "    fltAngle2 = np.mod(fltAngle1+fltAngle2, fltSymmetry-fltIncrements)\n",
    "    print(fltAngle1, fltAngle2+fltIncrements)"
   ]
  },
  {
   "cell_type": "code",
   "execution_count": null,
   "metadata": {},
   "outputs": [],
   "source": []
  },
  {
   "cell_type": "code",
   "execution_count": null,
   "metadata": {},
   "outputs": [],
   "source": [
    "for j in range(1,21):\n",
    "    print(gf.AngleGenerator(j, 10,60))\n",
    "    "
   ]
  },
  {
   "cell_type": "code",
   "execution_count": null,
   "metadata": {},
   "outputs": [],
   "source": [
    "lstrows = gf.ParallelopipedVolume(objProcess.GetAtomData()[:,1:4],np.array([100,50,0]),np.array([25,0,0]),np.array([0,10,0]), np.array([0,0,15]))"
   ]
  },
  {
   "cell_type": "code",
   "execution_count": null,
   "metadata": {},
   "outputs": [],
   "source": [
    "pts = objProcess.GetRows(lstrows)"
   ]
  },
  {
   "cell_type": "code",
   "execution_count": null,
   "metadata": {},
   "outputs": [],
   "source": [
    "plt.scatter(pts[:,1], pts[:,2])"
   ]
  },
  {
   "cell_type": "code",
   "execution_count": null,
   "metadata": {},
   "outputs": [],
   "source": [
    "pts"
   ]
  },
  {
   "cell_type": "code",
   "execution_count": null,
   "metadata": {},
   "outputs": [],
   "source": []
  }
 ],
 "metadata": {
  "kernelspec": {
   "display_name": "Python 3",
   "language": "python",
   "name": "python3"
  },
  "language_info": {
   "codemirror_mode": {
    "name": "ipython",
    "version": 3
   },
   "file_extension": ".py",
   "mimetype": "text/x-python",
   "name": "python",
   "nbconvert_exporter": "python",
   "pygments_lexer": "ipython3",
   "version": "3.7.3"
  }
 },
 "nbformat": 4,
 "nbformat_minor": 2
}
