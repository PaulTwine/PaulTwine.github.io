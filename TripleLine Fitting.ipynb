{
 "cells": [
  {
   "cell_type": "code",
   "execution_count": 8,
   "metadata": {},
   "outputs": [],
   "source": [
    "import numpy as np\n",
    "from mpl_toolkits.mplot3d import Axes3D\n",
    "import matplotlib.pyplot as plt\n",
    "from matplotlib.ticker import FormatStrFormatter\n",
    "import LatticeDefinitions as ld\n",
    "import GeometryFunctions as gf\n",
    "import GeneralLattice as gl\n",
    "import LAMMPSDump as LD\n",
    "import scipy as sc\n",
    "from skimage.morphology import skeletonize, thin, medial_axis\n",
    "import os\n",
    "from skimage.measure import label, regionprops\n",
    "from IPython.core.debugger import set_trace"
   ]
  },
  {
   "cell_type": "markdown",
   "metadata": {},
   "source": [
    "Estimating the triple line energy using curve fitting. \n",
    "In theory the potential energy enclosed in a cylinder should follow the following equation \n",
    "$P(r) = \\pi h P_{volume}r^2 + \\left<w\\right> \\left< \\gamma \\right> r + f(r)$ "
   ]
  },
  {
   "cell_type": "code",
   "execution_count": 9,
   "metadata": {},
   "outputs": [],
   "source": [
    "def CylinderVolume(h, R)->float:\n",
    "    return np.pi*h*R**2\n",
    "def PowerRule(r, a,b,c):\n",
    "    return a*r**b+c\n",
    "def ProportionalRule(r,m):\n",
    "    return m*r\n",
    "def LinearRule(r,m,c):\n",
    "    return r*m+c \n",
    "def Quadratic(r,a,b,c):\n",
    "    return a*r**2+b*r+c\n",
    "def TQuadratic(r,b,c):\n",
    "    return A*r**2+b*r+c\n",
    "def DiffPowerRule(r,a,b):\n",
    "    return b*a*r**(a-1)\n",
    "def AsymptoticLinear(r,a,b):\n",
    "    return a*r - b*np.log(r+b/a) + b*np.log(b/a)\n",
    "def DiffAL(r,a,b):\n",
    "    return a -b/(r+b/a)\n",
    "def Rational(r,a,b,c):\n",
    "    return (a*r**3+b)/(r**2+c)\n",
    "def Composite(r,a,b,c):\n",
    "    return a*r + b*(r+1)**(-1) +c"
   ]
  },
  {
   "cell_type": "code",
   "execution_count": 10,
   "metadata": {},
   "outputs": [],
   "source": [
    "x = np.linspace(0,20,40)\n",
    "#plt.plot(x,AsymptoticLinear(x,15,812))\n",
    "#plt.scatter(x,Composite(x,2,25,-2))"
   ]
  },
  {
   "cell_type": "code",
   "execution_count": 61,
   "metadata": {},
   "outputs": [
    {
     "ename": "IndexError",
     "evalue": "list index out of range",
     "output_type": "error",
     "traceback": [
      "\u001b[0;31m---------------------------------------------------------------------------\u001b[0m",
      "\u001b[0;31mIndexError\u001b[0m                                Traceback (most recent call last)",
      "\u001b[0;32m<ipython-input-61-1bcc92b92324>\u001b[0m in \u001b[0;36m<module>\u001b[0;34m\u001b[0m\n\u001b[1;32m     47\u001b[0m     \u001b[0mlstFitQuadratic\u001b[0m\u001b[0;34m.\u001b[0m\u001b[0mappend\u001b[0m\u001b[0;34m(\u001b[0m\u001b[0mQuadratic\u001b[0m\u001b[0;34m(\u001b[0m\u001b[0mk\u001b[0m\u001b[0;34m,\u001b[0m \u001b[0mA\u001b[0m\u001b[0;34m,\u001b[0m \u001b[0mpopt\u001b[0m\u001b[0;34m[\u001b[0m\u001b[0;36m1\u001b[0m\u001b[0;34m]\u001b[0m\u001b[0;34m,\u001b[0m \u001b[0mpopt\u001b[0m\u001b[0;34m[\u001b[0m\u001b[0;36m2\u001b[0m\u001b[0;34m]\u001b[0m\u001b[0;34m)\u001b[0m\u001b[0;34m)\u001b[0m\u001b[0;34m\u001b[0m\u001b[0;34m\u001b[0m\u001b[0m\n\u001b[1;32m     48\u001b[0m     \u001b[0mlstFitExcess\u001b[0m\u001b[0;34m.\u001b[0m\u001b[0mappend\u001b[0m\u001b[0;34m(\u001b[0m\u001b[0mLinearRule\u001b[0m\u001b[0;34m(\u001b[0m\u001b[0mk\u001b[0m\u001b[0;34m,\u001b[0m \u001b[0;34m*\u001b[0m\u001b[0mpopt2\u001b[0m\u001b[0;34m)\u001b[0m\u001b[0;34m)\u001b[0m\u001b[0;34m\u001b[0m\u001b[0;34m\u001b[0m\u001b[0m\n\u001b[0;32m---> 49\u001b[0;31m     \u001b[0mlstExcess2\u001b[0m\u001b[0;34m.\u001b[0m\u001b[0mappend\u001b[0m\u001b[0;34m(\u001b[0m\u001b[0mlstExcess\u001b[0m\u001b[0;34m[\u001b[0m\u001b[0mj\u001b[0m\u001b[0;34m]\u001b[0m\u001b[0;34m-\u001b[0m\u001b[0mpopt2\u001b[0m\u001b[0;34m[\u001b[0m\u001b[0;36m0\u001b[0m\u001b[0;34m]\u001b[0m\u001b[0;34m*\u001b[0m\u001b[0mlstValues\u001b[0m\u001b[0;34m[\u001b[0m\u001b[0mj\u001b[0m\u001b[0;34m]\u001b[0m\u001b[0;34m)\u001b[0m\u001b[0;34m\u001b[0m\u001b[0;34m\u001b[0m\u001b[0m\n\u001b[0m\u001b[1;32m     50\u001b[0m \u001b[0mprint\u001b[0m\u001b[0;34m(\u001b[0m\u001b[0mpopt\u001b[0m\u001b[0;34m,\u001b[0m\u001b[0mpopt2\u001b[0m\u001b[0;34m,\u001b[0m \u001b[0mA\u001b[0m\u001b[0;34m)\u001b[0m\u001b[0;34m\u001b[0m\u001b[0;34m\u001b[0m\u001b[0m\n\u001b[1;32m     51\u001b[0m \u001b[0mplt\u001b[0m\u001b[0;34m.\u001b[0m\u001b[0mscatter\u001b[0m\u001b[0;34m(\u001b[0m\u001b[0mlstValues\u001b[0m\u001b[0;34m,\u001b[0m \u001b[0mlstTotalPE\u001b[0m\u001b[0;34m)\u001b[0m\u001b[0;34m\u001b[0m\u001b[0;34m\u001b[0m\u001b[0m\n",
      "\u001b[0;31mIndexError\u001b[0m: list index out of range"
     ]
    }
   ],
   "source": [
    "strDumpFile = '../../PythonLAMMPS/VolumeTest/dump.eam'\n",
    "strPMFile = strDumpFile + 'PM'\n",
    "objData = LD.LAMMPSData(strPMFile,1)\n",
    "objProcess = objData.GetTimeStepByIndex(0)\n",
    "objProcess.CategoriseAtoms()\n",
    "a1=4.05\n",
    "h= 2*a1*np.sqrt(3)\n",
    "arrTriplePoints = objProcess.FindTriplePoints(a1, 2*a1)\n",
    "PEVolume= -3.36*4/(a1**3)\n",
    "lstPE = []\n",
    "lstValues = []\n",
    "lstExcess =[]\n",
    "lstFitExcess = []\n",
    "lstFitQuadratic = []\n",
    "lstTotalPE = []\n",
    "lstTotalGB = []\n",
    "lstExcessGB = []\n",
    "lstFitGBExcess = []\n",
    "lstExcess2 =[]\n",
    "lstExcess3 = []\n",
    "intCol = 10 \n",
    "intPE = objProcess.GetColumnNames().index('c_pe1')\n",
    "intVS = objProcess.GetColumnNames().index('VolumetricStrain')\n",
    "fltVolume = np.mean(objProcess.GetLatticeAtoms()[:,intVS])\n",
    "arrDistance = sc.spatial.distance_matrix(arrTriplePoints[:,0:2],arrTriplePoints[:,0:2])\n",
    "fltClosest = np.sort(arrDistance[intCol])[1]\n",
    "fltClosest = 160\n",
    "fltIncrement = 4.05/4\n",
    "A =np.median(objProcess.GetLatticeAtoms()[:,intPE])*4*4.05**(-3)*h*np.pi/(1+fltVolume)\n",
    "fltMedianLatticePE = np.median(objProcess.FindValuesInCylinder(objProcess.GetLatticeAtoms()[:,0:4],\n",
    "                                                           arrTriplePoints[intCol],fltClosest/2,h,intPE))\n",
    "fltMedianGBPE = np.median(objProcess.FindValuesInCylinder(objProcess.GetOtherAtoms()[:,0:4],\n",
    "                                                           arrTriplePoints[intCol],fltClosest/2,h,intPE))\n",
    "arrCurrentTripleLine = objProcess.MoveToSimulationCell(arrTriplePoints[intCol])\n",
    "for j in range(1,np.floor(fltClosest/(2*fltIncrement)).astype('int')):\n",
    "    r = fltIncrement*j\n",
    "    lstValues.append(r)\n",
    "    values = objProcess.FindValuesInCylinder(objProcess.GetAtomData()[:,0:4], \n",
    "                                             arrCurrentTripleLine, r,h,intPE)\n",
    "    valuesGB = objProcess.FindValuesInCylinder(objProcess.GetOtherAtoms()[:,0:4], arrCurrentTripleLine,r,h,intPE)\n",
    "    lstTotalPE.append(np.sum(values))\n",
    "    lstTotalGB.append(np.sum(valuesGB)-fltMedianGBPE*len(valuesGB))\n",
    "    lstExcess.append(np.sum(values) -fltMedianLatticePE*len(values))\n",
    "popt, popv = sc.optimize.curve_fit(Quadratic, lstValues,lstTotalPE)\n",
    "popt2, popv2 = sc.optimize.curve_fit(LinearRule,lstValues, lstExcess)\n",
    "for k in lstValues:\n",
    "    lstFitQuadratic.append(Quadratic(k, A, popt[1], popt[2]))\n",
    "    lstFitExcess.append(LinearRule(k, *popt2))\n",
    "    lstExcess2.append(lstExcess[j]-popt2[0]*lstValues[j])\n",
    "print(popt,popt2, A)\n",
    "plt.scatter(lstValues, lstTotalPE)\n",
    "plt.plot(lstValues, lstFitQuadratic, c='r')\n",
    "plt.show()\n",
    "lstExcess2 = []\n",
    "lstDifference = []\n",
    "for j in range(len(lstValues)):\n",
    "    lstExcess2.append(lstExcess[j] -popt2[0]*lstValues[j])\n",
    "    lstExcess3.append(lstExcess[j] -lstTotalGB[j])\n",
    "plt.scatter(lstValues, lstExcess2)\n",
    "plt.show()\n",
    "plt.scatter(lstValues, lstTotalGB)\n",
    "plt.show()"
   ]
  },
  {
   "cell_type": "code",
   "execution_count": 15,
   "metadata": {},
   "outputs": [
    {
     "name": "stdout",
     "output_type": "stream",
     "text": [
      "0\n"
     ]
    }
   ],
   "source": [
    "r = np.correlate(lstExcess2,lstExcess2,mode='full')[len(lstExcess2)-1:]\n",
    "print(np.argmax(r))"
   ]
  },
  {
   "cell_type": "code",
   "execution_count": 24,
   "metadata": {},
   "outputs": [
    {
     "data": {
      "text/plain": [
       "array([-2.93487497e-08+0.j        ,  3.69535837e+01-0.42514608j,\n",
       "        2.26573237e+00+9.76504509j,  1.00441701e+01+1.09463811j,\n",
       "        4.40042889e+00-2.37021476j, -8.97697976e-01+1.76894634j,\n",
       "        9.16082220e-01+2.99756332j,  2.27598205e+00+0.70102959j,\n",
       "        2.47691228e+00+1.89867062j, -1.15947903e-01-0.08190208j,\n",
       "       -4.18067312e-01-1.60908415j,  2.63939885e-01-1.15448464j,\n",
       "        5.95866163e-01+0.8506485j ,  4.30002372e-01+0.2302055j ,\n",
       "        1.14620410e+00+0.1028236j ,  1.60789156e+00-1.05419039j,\n",
       "        2.50445774e+00+0.3236433j , -1.66771883e+00+0.57275294j,\n",
       "       -1.96222892e-01+0.650059j  ,  1.19916653e+00+1.15077658j,\n",
       "        1.19916653e+00-1.15077658j, -1.96222892e-01-0.650059j  ,\n",
       "       -1.66771883e+00-0.57275294j,  2.50445774e+00-0.3236433j ,\n",
       "        1.60789156e+00+1.05419039j,  1.14620410e+00-0.1028236j ,\n",
       "        4.30002372e-01-0.2302055j ,  5.95866163e-01-0.8506485j ,\n",
       "        2.63939885e-01+1.15448464j, -4.18067312e-01+1.60908415j,\n",
       "       -1.15947903e-01+0.08190208j,  2.47691228e+00-1.89867062j,\n",
       "        2.27598205e+00-0.70102959j,  9.16082220e-01-2.99756332j,\n",
       "       -8.97697976e-01-1.76894634j,  4.40042889e+00+2.37021476j,\n",
       "        1.00441701e+01-1.09463811j,  2.26573237e+00-9.76504509j,\n",
       "        3.69535837e+01+0.42514608j])"
      ]
     },
     "execution_count": 24,
     "metadata": {},
     "output_type": "execute_result"
    },
    {
     "data": {
      "image/png": "[encoded data removed]",
      "text/plain": [
       "<Figure size 432x288 with 1 Axes>"
      ]
     },
     "metadata": {
      "needs_background": "light"
     },
     "output_type": "display_data"
    }
   ],
   "source": [
    "arrfft = np.fft.fft(lstExcess2)\n",
    "arrAmplitude = np.abs(arrfft)\n",
    "arrFrequency = np.fft.fftfreq(len(arrAmplitude))\n",
    "plt.plot(arrFrequency, arrAmplitude)\n",
    "arrfft\n"
   ]
  },
  {
   "cell_type": "code",
   "execution_count": null,
   "metadata": {},
   "outputs": [],
   "source": [
    "print(objProcess.MoveToSimulationCell(arrTriplePoints), objProcess.MergePeriodicTripleLines(a1))\n",
    "\n"
   ]
  },
  {
   "cell_type": "code",
   "execution_count": null,
   "metadata": {},
   "outputs": [],
   "source": [
    "def PotentialEnergyInVolume(arrTriplePoint: np.array, fltRadius:float, fltHeight :float)->float:\n",
    "    arrTriplePoints = objProcess.PeriodicEquivalents(arrTriplePoint)\n",
    "    lstPoints = []\n",
    "    for j in arrTriplePoints:\n",
    "        lstPoints.extend(np.where(np.linalg.norm(objProcess.GetAtomData()[:,1:3]-j[0:2],axis=1) \n",
    "                         <fltRadius)[0])\n",
    "    lstPoints = list(np.unique(lstPoints))\n",
    "    return (np.sum(objProcess.GetAtomData()[lstPoints][:,7])/CylinderVolume(fltHeight,fltRadius)) "
   ]
  },
  {
   "cell_type": "code",
   "execution_count": null,
   "metadata": {},
   "outputs": [],
   "source": [
    "def PotentialEnergyPerAtom(arrTriplePoint: np.array, fltRadius:float, fltHeight :float)->float:\n",
    "    arrTriplePoints = objProcess.PeriodicEquivalents(arrTriplePoint)\n",
    "    lstPoints = []\n",
    "    for j in arrTriplePoints:\n",
    "        lstPoints.extend(np.where(np.linalg.norm(objProcess.GetAtomData()[:,1:3]-j[0:2],axis=1) \n",
    "                         <fltRadius)[0])\n",
    "    lstPoints = list(np.unique(lstPoints))\n",
    "    return (np.sum(objProcess.GetAtomData()[lstPoints][:,7])/len(lstPoints)) "
   ]
  },
  {
   "cell_type": "code",
   "execution_count": null,
   "metadata": {},
   "outputs": [],
   "source": [
    "def FormPotentialListVolume(intLength: int, flta: float, flth: float, arrPoint: np.array)->list:\n",
    "    Radii = np.linspace(flta/(np.sqrt(2)),0.5*intLength*flta/(np.sqrt(2)),intLength)\n",
    "    lstPotentialValues = []\n",
    "    for r in Radii:\n",
    "        lstPotentialValues.append(PotentialEnergyInVolume(arrPoint, r,flth))\n",
    "    return Radii,lstPotentialValues"
   ]
  },
  {
   "cell_type": "code",
   "execution_count": null,
   "metadata": {},
   "outputs": [],
   "source": [
    "def FormPotentialListAtom(intLength: int, flta: float, flth: float, arrPoint: np.array)->list:\n",
    "    Radii = np.linspace(flta/(np.sqrt(2)),0.5*intLength*flta/(np.sqrt(2)),intLength)\n",
    "    lstPotentialValues = []\n",
    "    for r in Radii:\n",
    "        lstPotentialValues.append(PotentialEnergyPerAtom(arrPoint, r,flth))\n",
    "    return Radii,lstPotentialValues"
   ]
  },
  {
   "cell_type": "code",
   "execution_count": null,
   "metadata": {},
   "outputs": [],
   "source": [
    "fig,axs = plt.subplots(len(arrTriplePoints),2, figsize = (15,50))\n",
    "fig.subplots_adjust(hspace =1)\n",
    "axs= axs.ravel()\n",
    "for pos,j in enumerate(arrTriplePoints):\n",
    "    axs[2*pos].scatter(*FormPotentialListVolume(25, a1, 2*a1, j))\n",
    "    axs[2*pos+1].scatter(*FormPotentialListAtom(25, a1, 2*a1, j))\n",
    "    axs[2*pos].set_title('Triple line mean position is '+ str(np.round(j)))\n",
    "    axs[2*pos+1].set_title('Triple line mean position is '+ str(np.round(j)))\n",
    "    axs[2*pos].set_ylabel('Potential Energy per Unit Volume in eV per $\\AA^3$' )\n",
    "    axs[2*pos].set_xlabel('Radial distance from triple line axis in $\\AA$')\n",
    "    axs[2*pos+1].set_ylabel('Potential Energy per atom in $eV$' )\n",
    "    axs[2*pos+1].set_xlabel('Radial distance from triple line axis in $\\AA$')"
   ]
  },
  {
   "cell_type": "code",
   "execution_count": null,
   "metadata": {},
   "outputs": [],
   "source": [
    "-3.36*4/(4.05**3) #FCC cell has 4 atoms in a perfect lattice each atom is approx -3.36 eV \n",
    "len(arrTriplePoints)"
   ]
  },
  {
   "cell_type": "code",
   "execution_count": null,
   "metadata": {},
   "outputs": [],
   "source": [
    "arrTriplePoints = objProcess.FindTriplePoints(4.05,4.05, True)\n",
    "arrGrainBoundaries = objProcess.GetGrainBoundaries()\n",
    "print(arrTriplePoints)"
   ]
  },
  {
   "cell_type": "code",
   "execution_count": null,
   "metadata": {},
   "outputs": [],
   "source": [
    "def GetGrainBoundarySegments(objGB, fltWidth: float):\n",
    "    #arrPoints = gf.SortInDistanceOrder(arr2DPoints[:,0:2])[0]\n",
    "    lstPositions =[]\n",
    "    lstTotalPE = []\n",
    "    lstTotalPositions = []\n",
    "    for j in range(0,objGB.GetNumberOfPoints()-1):\n",
    "        arrVector = objGB.GetVector(j)\n",
    "        arrAcross = fltWidth*objGB.GetAcrossVector(j)\n",
    "        arrCentre3d = objGB.GetCentre(j) \n",
    "        arrCentre3d[2] = 4.05\n",
    "        lstPositions = objProcess.FindBoxAtoms(arrCentre3d[0:2],arrVector[0:2],arrAcross[0:2])\n",
    "      #  lstPositions = objProcess.FindCylindricalAtoms(np.array([arrPoints[j][0],arrPoints[j][1],0]), fltWidth)\n",
    "        lstPositions = list(np.unique(lstPositions))\n",
    "        lstTotalPE.append(np.sum(objProcess.GetRows(lstPositions)[:,intPE]))\n",
    "        lstTotalPositions.extend(objProcess.GetRows(lstPositions)[:,1:3])\n",
    "    lstTotalPositions = np.array(lstTotalPositions)\n",
    "    return lstTotalPE, lstTotalPositions"
   ]
  },
  {
   "cell_type": "code",
   "execution_count": null,
   "metadata": {},
   "outputs": [],
   "source": [
    "arrGrainBoundaries = objProcess.GetGrainBoundaries()\n",
    "fig,axs = plt.subplots(len(arrGrainBoundaries),2, figsize = (15,50))\n",
    "fig.subplots_adjust(hspace =1)\n",
    "axs= axs.ravel()\n",
    "lstPE = []\n",
    "lstPositions = []\n",
    "fltWidth= 4*a1\n",
    "for j in range(len(arrGrainBoundaries)):\n",
    "    if len(arrGrainBoundaries[j]) > 2: \n",
    "        lstLengths = []\n",
    "        objGB = gl.GrainBoundary(arrGrainBoundaries[j])\n",
    "        \n",
    "        lstPE, lstPositions = GetGrainBoundarySegments(objGB, fltWidth)\n",
    "        for k in range(len(lstPE)):\n",
    "            lstLengths.append(objGB.GetAccumulativeLength(k))\n",
    "            lstPE[k] = lstPE[k]/(objGB.GetSegmentLength(k)*fltWidth*h)\n",
    "        axs[2*j].set(xlim=(0, objProcess.GetCellVectors()[0][0]+objProcess.GetCellVectors()[1][0]),\n",
    "                     ylim = (0,objProcess.GetCellVectors()[1][1]))\n",
    "        axs[2*j].axis('equal')\n",
    "        axs[2*j].scatter(lstPositions[:,0],lstPositions[:,1])\n",
    "        axs[2*j].scatter(objGB.GetPoints()[:,0],objGB.GetPoints()[:,1])\n",
    "        axs[2*j+1].scatter(lstLengths,lstPE)\n",
    "        axs[2*j].set_title('Atomic Positions for Grain Boundary '+ str(np.round(j)))\n",
    "        axs[2*j+1].set_title('Potential Energy in $eV$ for Grain Boundary '+ str(np.round(j)))\n",
    "        axs[2*j].set_ylabel('Position in $\\AA$' )\n",
    "        axs[2*j].set_xlabel('Position in $\\AA$')\n",
    "        axs[2*j+1].set_ylabel('Potential Energy per atom in eV$' )\n",
    "        axs[2*j+1].set_xlabel('Approximate Position Number on Grain Boundary')"
   ]
  },
  {
   "cell_type": "code",
   "execution_count": null,
   "metadata": {},
   "outputs": [],
   "source": []
  },
  {
   "cell_type": "code",
   "execution_count": null,
   "metadata": {},
   "outputs": [],
   "source": []
  },
  {
   "cell_type": "code",
   "execution_count": null,
   "metadata": {},
   "outputs": [],
   "source": []
  },
  {
   "cell_type": "code",
   "execution_count": null,
   "metadata": {},
   "outputs": [],
   "source": [
    "\n"
   ]
  },
  {
   "cell_type": "code",
   "execution_count": null,
   "metadata": {},
   "outputs": [],
   "source": [
    "fig,axs = plt.subplots(len(arrGrainBoundaries),1, figsize = (15,50))\n",
    "fig.subplots_adjust(hspace =1)\n",
    "axs= axs.ravel()\n",
    "for j in range(len(arrGrainBoundaries)):\n",
    "    if len(arrGrainBoundaries[j]) > 1:\n",
    "        objGB2 = gl.GrainBoundary(arrGrainBoundaries[j])\n",
    "        lstPE = []\n",
    "        lstWidth =[]\n",
    "        for k in range(2,12):\n",
    "            lstPE.append(np.mean(GetGrainBoundarySegments(objGB2, k*a1/4)[0]))\n",
    "            lstWidth.append(k*a1/2) \n",
    "            \n",
    "        axs[j].scatter(lstWidth,lstPE)\n",
    "        axs[j].set_title('PE per Atom Against Cuboid Width '+ str(np.round(j)))\n",
    "        axs[j].set_ylabel('PE per Atom in $eV$$' )\n",
    "        axs[j].set_xlabel('Cuboid Width in $\\AA$')\n",
    "            "
   ]
  },
  {
   "cell_type": "code",
   "execution_count": null,
   "metadata": {},
   "outputs": [],
   "source": [
    "def TurningRegion(arrPoints, arrAcross1,arrAcross2, fltWidth)->list:\n",
    "    lstIndices = []\n",
    "    arrUnit1 = gf.NormaliseVector(arrAcross1[0:2])\n",
    "    arrUnit2 = gf.NormaliseVector(arrAcross2[0:2])\n",
    "    fltDirection = np.sign(np.cross(arrAcross1, arrAcross2)[2])\n",
    "    if fltDirection < 0: \n",
    "        lstIndices.extend(np.where((np.dot(arrPoints,arrUnit1) > 0) & (np.dot(arrPoints,arrUnit1) < fltWidth)\n",
    "                             & (np.dot(arrPoints,arrUnit2) > 0) & (np.dot(arrPoints,arrUnit2) < fltWidth))[0])\n",
    "    elif fltDirection > 0:\n",
    "        lstIndices.extend(np.where((np.dot(arrPoints,arrUnit1) < 0) & (np.dot(arrPoints,arrUnit1) > -fltWidth)\n",
    "                                  & (np.dot(arrPoints,arrUnit2) < 0) & (np.dot(arrPoints,arrUnit2) > -fltWidth))[0])\n",
    "    return list(lstIndices)"
   ]
  },
  {
   "cell_type": "code",
   "execution_count": null,
   "metadata": {},
   "outputs": [],
   "source": [
    "objGB1 = gl.GrainBoundary(arrGrainBoundaries[5])\n",
    "lstPoints = TurningRegion(objProcess.GetAtomData()[:,1:3]-objGB1.GetPoints(6)[0:2], objGB1.GetVector(0), \n",
    "              objGB1.GetVector(8), 1)\n",
    "plt.scatter(objProcess.GetRows(lstPoints)[:,1],objProcess.GetRows(lstPoints)[:,2]);"
   ]
  },
  {
   "cell_type": "code",
   "execution_count": null,
   "metadata": {},
   "outputs": [],
   "source": [
    "np.where(np.dot(objProcess.GetAtomData()[:,1:3]-objGB1.GetPoints(1)[0:2],\n",
    "                gf.NormaliseVector(objGB1.GetVector(1))[0:2])<0)"
   ]
  },
  {
   "cell_type": "code",
   "execution_count": null,
   "metadata": {},
   "outputs": [],
   "source": []
  },
  {
   "cell_type": "code",
   "execution_count": null,
   "metadata": {},
   "outputs": [],
   "source": [
    "objGB1.GetVector(5)"
   ]
  },
  {
   "cell_type": "code",
   "execution_count": null,
   "metadata": {},
   "outputs": [],
   "source": [
    "def GetGrainBoundary(objGB, fltWidth: float):\n",
    "    #arrPoints = gf.SortInDistanceOrder(arr2DPoints[:,0:2])[0]\n",
    "    lstPositions =[]\n",
    "    lstTotalPE = []\n",
    "    lstTotalPositions = []\n",
    "    lstArcs = []\n",
    "    arrFirstCentre = objGB.GetCentre(0)\n",
    "    lstArcs.extend(gf.ArcSegment(objProcess.GetAtomData()[:,1:3]-arrFirstCentre[0:2],\n",
    "                           objGB.GetAcrossVector(0)[0:2], -objGB.GetAcrossVector(0)[0:2], fltWidth))\n",
    "    lstArcs.extend(gf.ArcSegment(objProcess.GetAtomData()[:,1:3]-arrFirstCentre[0:2],\n",
    "                           objGB.GetAcrossVector(-1)[0:2], -objGB.GetAcrossVector(-1)[0:2], fltWidth))\n",
    "    for j in range(0,objGB.GetNumberOfPoints()-1):\n",
    "        arrVector = objGB.GetVector(j)\n",
    "        arrAcross = fltWidth*objGB.GetAcrossVector(j)\n",
    "        arrCentre3d = objGB.GetCentre(j) \n",
    "        arrCentre3d[2] = 4.05\n",
    "        lstPositions.extend(objProcess.FindBoxAtoms(arrCentre3d[0:2],arrVector[0:2],arrAcross[0:2]))\n",
    "        if j > 1:\n",
    "            lstPositions.extend(gf.ArcSegment(objProcess.GetAtomData()[:,1:3]-arrCentre3d[0:2],\n",
    "                           objGB.GetAcrossVector(j)[0:2], objGB.GetAcrossVector(j-1)[0:2], fltWidth))\n",
    "            lstPositions.extend(gf.ArcSegment(objProcess.GetAtomData()[:,1:3]-arrCentre3d[0:2],\n",
    "                           -objGB.GetAcrossVector(j)[0:2], -objGB.GetAcrossVector(j-1)[0:2], fltWidth))\n",
    "      #  lstPositions = objProcess.FindCylindricalAtoms(np.array([arrPoints[j][0],arrPoints[j][1],0]), fltWidth)\n",
    "        lstPositions = set(np.unique(lstPositions))\n",
    "        lstPositions.difference(lstArcs)\n",
    "        lstPositions = list(lstPositions)\n",
    "        lstTotalPE.append(np.sum(objProcess.GetRows(lstPositions)[:,intPE]))\n",
    "        lstTotalPositions.extend(objProcess.GetRows(lstPositions)[:,1:3])\n",
    "    lstTotalPositions = np.array(lstTotalPositions)\n",
    "    return lstTotalPE, lstTotalPositions"
   ]
  },
  {
   "cell_type": "code",
   "execution_count": null,
   "metadata": {},
   "outputs": [],
   "source": [
    "GetGrainBoundary(objGB2,5)"
   ]
  },
  {
   "cell_type": "code",
   "execution_count": null,
   "metadata": {},
   "outputs": [],
   "source": [
    "objGB2.GetAcrossVector(1)"
   ]
  },
  {
   "cell_type": "code",
   "execution_count": null,
   "metadata": {},
   "outputs": [],
   "source": [
    "arrGrainBoundaries = objProcess.GetGrainBoundaries()\n",
    "fig,axs = plt.subplots(len(arrGrainBoundaries),2, figsize = (15,50))\n",
    "fig.subplots_adjust(hspace =1)\n",
    "axs= axs.ravel()\n",
    "lstPE = []\n",
    "lstPositions = []\n",
    "fltWidth= 2*a1\n",
    "for j in range(len(arrGrainBoundaries)):\n",
    "    if len(arrGrainBoundaries[j]) > 2: \n",
    "        lstLengths = []\n",
    "        objGB = gl.GrainBoundary(arrGrainBoundaries[j])\n",
    "        \n",
    "        lstPE, lstPositions = GetGrainBoundary(objGB, fltWidth)\n",
    "        for k in range(len(lstPE)):\n",
    "            lstLengths.append(objGB.GetAccumulativeLength(k))\n",
    "            lstPE[k] = lstPE[k]/(objGB.GetSegmentLength(k)*fltWidth*h)\n",
    "        axs[2*j].set(xlim=(0, objProcess.GetCellVectors()[0][0]+objProcess.GetCellVectors()[1][0]),\n",
    "                     ylim = (0,objProcess.GetCellVectors()[1][1]))\n",
    "        axs[2*j].axis('equal')\n",
    "        axs[2*j].scatter(lstPositions[:,0],lstPositions[:,1])\n",
    "        axs[2*j].scatter(objGB.GetPoints()[:,0],objGB.GetPoints()[:,1])\n",
    "        axs[2*j+1].scatter(lstLengths,lstPE)\n",
    "        axs[2*j].set_title('Atomic Positions for Grain Boundary '+ str(np.round(j)))\n",
    "        axs[2*j+1].set_title('Potential Energy in $eV$ for Grain Boundary '+ str(np.round(j)))\n",
    "        axs[2*j].set_ylabel('Position in $\\AA$' )\n",
    "        axs[2*j].set_xlabel('Position in $\\AA$')\n",
    "        axs[2*j+1].set_ylabel('Potential Energy per atom in eV$' )\n",
    "        axs[2*j+1].set_xlabel('Approximate Position Number on Grain Boundary')"
   ]
  },
  {
   "cell_type": "code",
   "execution_count": null,
   "metadata": {},
   "outputs": [],
   "source": [
    "fig = plt.figure()\n",
    "ax = fig.gca(projection='3d')\n",
    "lstP = gf.CylindricalVolume(objProcess.GetAtomData()[:,1:4], arrTriplePoints[10], 15, objProcess.CellHeight)\n",
    "ax.scatter(objProcess.GetRows(lstP)[:,1], objProcess.GetRows(lstP)[:,2],objProcess.GetRows(lstP)[:,3])"
   ]
  },
  {
   "cell_type": "code",
   "execution_count": null,
   "metadata": {},
   "outputs": [],
   "source": [
    "objProcess.FindNonGrainMean(np.array([0,0,0]), 8)\n"
   ]
  },
  {
   "cell_type": "code",
   "execution_count": null,
   "metadata": {},
   "outputs": [],
   "source": [
    "CellArray = plt.imread('../../PythonLAMMPS/VolumeTest/CellView.png')\n",
    "CellArray = np.flip(CellArray, axis=0)\n",
    "plt.matshow(CellArray[:,:,:], origin = 'lower')"
   ]
  },
  {
   "cell_type": "code",
   "execution_count": null,
   "metadata": {},
   "outputs": [],
   "source": [
    "def ConvertToImage(vctImageAcross: np.array, vctImageDiagonal: np.array, \n",
    "                   arrPoints: np.array, arrMatrix: np.array)->np.array:\n",
    "    arrNewPoints = np.matmul(arrPoints, arrMatrix)\n",
    "    arrNewPoints = np.mod(arrNewPoints, np.ones(3))\n",
    "    arrReturn2DPoints = np.zeros([len(arrNewPoints),2])\n",
    "    for j, point in enumerate(arrNewPoints):\n",
    "        arrReturn2DPoints[j] = point[0]*vctImageAcross + point[1]*vctDiagonal\n",
    "    "
   ]
  },
  {
   "cell_type": "code",
   "execution_count": null,
   "metadata": {},
   "outputs": [],
   "source": [
    "n = 5\n",
    "intUp, intAcross = np.shape(CellArray)[0:2]\n",
    "#arrTriplePoints = objProcess.MoveToSimulationCell(arrTriplePoints)\n",
    "NewTriplePoints = np.matmul(arrTriplePoints, objProcess.GetBasisConversions())\n",
    "NewTriplePoints = np.mod(NewTriplePoints, np.ones(3))\n",
    "fltBase = intUp/np.tan(np.pi/3)\n",
    "vctAcross = np.array([intAcross-fltBase, 0])\n",
    "vctDiagonal = np.array([fltBase, intUp])\n",
    "for j in NewTriplePoints:\n",
    "    arrCurrentPoint = j[0]*vctAcross + j[1]*vctDiagonal\n",
    "    #arrCurrentPoint[0] = j[0]/np.linalg.norm(objProcess.GetCellVectors()[0])*intDown\n",
    "    #arrCurrentPoint[1] = (1-j[1]/np.linalg.norm(objProcess.GetCellVectors()[1]))*intDown\n",
    "    CellArray[arrCurrentPoint[1].astype('int')-n:arrCurrentPoint[1].astype('int')+n, \n",
    "              arrCurrentPoint[0].astype('int')-n:arrCurrentPoint[0].astype('int')+n,0] =1\n",
    "plt.matshow(CellArray, origin = 'lower')"
   ]
  },
  {
   "cell_type": "code",
   "execution_count": null,
   "metadata": {},
   "outputs": [],
   "source": [
    "arrPoint = objProcess.GetTripleLines()[0]\n",
    "lstIndices = gf.CylindricalVolume(objProcess.GetLatticeAtoms()[:,1:4], arrPoint,2*a1, h )\n",
    "#lstIndices = objProcess.FindCylindricalAtoms(objProcess.GetOtherAtoms()[:1:4], arrPoint, 2*a1,h)\n",
    "arrCylinder = objProcess.GetLatticeAtoms()[lstIndices, 1:4]"
   ]
  },
  {
   "cell_type": "code",
   "execution_count": null,
   "metadata": {},
   "outputs": [],
   "source": [
    "plt.scatter(arrCylinder[:,0],arrCylinder[:,1])\n"
   ]
  },
  {
   "cell_type": "code",
   "execution_count": null,
   "metadata": {},
   "outputs": [],
   "source": [
    "print(arrPoint, np.mean(arrCylinder, axis=0), len(arrCylinder))\n"
   ]
  },
  {
   "cell_type": "code",
   "execution_count": null,
   "metadata": {},
   "outputs": [],
   "source": [
    "objProcess.GetNumberOfLatticeAtoms()\n"
   ]
  },
  {
   "cell_type": "code",
   "execution_count": null,
   "metadata": {},
   "outputs": [],
   "source": []
  }
 ],
 "metadata": {
  "kernelspec": {
   "display_name": "Python 3",
   "language": "python",
   "name": "python3"
  },
  "language_info": {
   "codemirror_mode": {
    "name": "ipython",
    "version": 3
   },
   "file_extension": ".py",
   "mimetype": "text/x-python",
   "name": "python",
   "nbconvert_exporter": "python",
   "pygments_lexer": "ipython3",
   "version": "3.7.3"
  }
 },
 "nbformat": 4,
 "nbformat_minor": 2
}
